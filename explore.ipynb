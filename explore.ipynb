{
 "cells": [
  {
   "cell_type": "markdown",
   "metadata": {},
   "source": [
    "# Preprocessing\n",
    "Run everything starting from here until the next section."
   ]
  },
  {
   "cell_type": "code",
   "execution_count": 1,
   "metadata": {},
   "outputs": [],
   "source": [
    "import pandas as pd\n",
    "import numpy as np\n",
    "import os\n",
    "import networkx as nx\n",
    "import matplotlib.pyplot as plt\n",
    "%matplotlib inline\n",
    "np.random.seed(10)"
   ]
  },
  {
   "cell_type": "code",
   "execution_count": 2,
   "metadata": {},
   "outputs": [
    {
     "data": {
      "text/plain": [
       "['properties.txt',\n",
       " '18065-venv',\n",
       " '.DS_Store',\n",
       " 'explore.ipynb',\n",
       " 'README.md',\n",
       " '.gitignore',\n",
       " 'preprocessing.py',\n",
       " '.ipynb_checkpoints',\n",
       " '.git',\n",
       " 'web-redditEmbeddings-subreddits.csv',\n",
       " 'plots',\n",
       " 'soc-redditHyperlinks-body.tsv']"
      ]
     },
     "execution_count": 2,
     "metadata": {},
     "output_type": "execute_result"
    }
   ],
   "source": [
    "os.listdir()"
   ]
  },
  {
   "cell_type": "code",
   "execution_count": 3,
   "metadata": {},
   "outputs": [],
   "source": [
    "df = pd.read_csv('soc-redditHyperlinks-body.tsv', sep='\\t')"
   ]
  },
  {
   "cell_type": "code",
   "execution_count": 4,
   "metadata": {},
   "outputs": [
    {
     "data": {
      "text/html": [
       "<div>\n",
       "<style scoped>\n",
       "    .dataframe tbody tr th:only-of-type {\n",
       "        vertical-align: middle;\n",
       "    }\n",
       "\n",
       "    .dataframe tbody tr th {\n",
       "        vertical-align: top;\n",
       "    }\n",
       "\n",
       "    .dataframe thead th {\n",
       "        text-align: right;\n",
       "    }\n",
       "</style>\n",
       "<table border=\"1\" class=\"dataframe\">\n",
       "  <thead>\n",
       "    <tr style=\"text-align: right;\">\n",
       "      <th></th>\n",
       "      <th>SOURCE_SUBREDDIT</th>\n",
       "      <th>TARGET_SUBREDDIT</th>\n",
       "      <th>POST_ID</th>\n",
       "      <th>TIMESTAMP</th>\n",
       "      <th>LINK_SENTIMENT</th>\n",
       "      <th>PROPERTIES</th>\n",
       "    </tr>\n",
       "  </thead>\n",
       "  <tbody>\n",
       "    <tr>\n",
       "      <th>0</th>\n",
       "      <td>leagueoflegends</td>\n",
       "      <td>teamredditteams</td>\n",
       "      <td>1u4nrps</td>\n",
       "      <td>2013-12-31 16:39:58</td>\n",
       "      <td>1</td>\n",
       "      <td>345.0,298.0,0.75652173913,0.0173913043478,0.08...</td>\n",
       "    </tr>\n",
       "    <tr>\n",
       "      <th>1</th>\n",
       "      <td>theredlion</td>\n",
       "      <td>soccer</td>\n",
       "      <td>1u4qkd</td>\n",
       "      <td>2013-12-31 18:18:37</td>\n",
       "      <td>-1</td>\n",
       "      <td>101.0,98.0,0.742574257426,0.019801980198,0.049...</td>\n",
       "    </tr>\n",
       "    <tr>\n",
       "      <th>2</th>\n",
       "      <td>inlandempire</td>\n",
       "      <td>bikela</td>\n",
       "      <td>1u4qlzs</td>\n",
       "      <td>2014-01-01 14:54:35</td>\n",
       "      <td>1</td>\n",
       "      <td>85.0,85.0,0.752941176471,0.0235294117647,0.082...</td>\n",
       "    </tr>\n",
       "    <tr>\n",
       "      <th>3</th>\n",
       "      <td>nfl</td>\n",
       "      <td>cfb</td>\n",
       "      <td>1u4sjvs</td>\n",
       "      <td>2013-12-31 17:37:55</td>\n",
       "      <td>1</td>\n",
       "      <td>1124.0,949.0,0.772241992883,0.0017793594306,0....</td>\n",
       "    </tr>\n",
       "    <tr>\n",
       "      <th>4</th>\n",
       "      <td>playmygame</td>\n",
       "      <td>gamedev</td>\n",
       "      <td>1u4w5ss</td>\n",
       "      <td>2014-01-01 02:51:13</td>\n",
       "      <td>1</td>\n",
       "      <td>715.0,622.0,0.777622377622,0.00699300699301,0....</td>\n",
       "    </tr>\n",
       "  </tbody>\n",
       "</table>\n",
       "</div>"
      ],
      "text/plain": [
       "  SOURCE_SUBREDDIT TARGET_SUBREDDIT  POST_ID            TIMESTAMP  \\\n",
       "0  leagueoflegends  teamredditteams  1u4nrps  2013-12-31 16:39:58   \n",
       "1       theredlion           soccer   1u4qkd  2013-12-31 18:18:37   \n",
       "2     inlandempire           bikela  1u4qlzs  2014-01-01 14:54:35   \n",
       "3              nfl              cfb  1u4sjvs  2013-12-31 17:37:55   \n",
       "4       playmygame          gamedev  1u4w5ss  2014-01-01 02:51:13   \n",
       "\n",
       "   LINK_SENTIMENT                                         PROPERTIES  \n",
       "0               1  345.0,298.0,0.75652173913,0.0173913043478,0.08...  \n",
       "1              -1  101.0,98.0,0.742574257426,0.019801980198,0.049...  \n",
       "2               1  85.0,85.0,0.752941176471,0.0235294117647,0.082...  \n",
       "3               1  1124.0,949.0,0.772241992883,0.0017793594306,0....  \n",
       "4               1  715.0,622.0,0.777622377622,0.00699300699301,0....  "
      ]
     },
     "execution_count": 4,
     "metadata": {},
     "output_type": "execute_result"
    }
   ],
   "source": [
    "df.head()"
   ]
  },
  {
   "cell_type": "code",
   "execution_count": 5,
   "metadata": {},
   "outputs": [],
   "source": [
    "properties = []\n",
    "with open('properties.txt') as fp:\n",
    "    line = fp.readline()\n",
    "    line = fp.readline()\n",
    "    while line and len(line) > 0:\n",
    "        line = fp.readline()\n",
    "        properties.append(line[3:-1])\n",
    "        \n",
    "propsDf = df[\"PROPERTIES\"].str.split(\",\", expand=True) \n",
    "for i in range(len(properties)):\n",
    "    prop = properties[i]\n",
    "    df[prop] = propsDf[i].astype(\"float64\")\n",
    "df.drop(columns=\"PROPERTIES\",inplace=True)"
   ]
  },
  {
   "cell_type": "code",
   "execution_count": 362,
   "metadata": {},
   "outputs": [
    {
     "data": {
      "text/html": [
       "<div>\n",
       "<style scoped>\n",
       "    .dataframe tbody tr th:only-of-type {\n",
       "        vertical-align: middle;\n",
       "    }\n",
       "\n",
       "    .dataframe tbody tr th {\n",
       "        vertical-align: top;\n",
       "    }\n",
       "\n",
       "    .dataframe thead th {\n",
       "        text-align: right;\n",
       "    }\n",
       "</style>\n",
       "<table border=\"1\" class=\"dataframe\">\n",
       "  <thead>\n",
       "    <tr style=\"text-align: right;\">\n",
       "      <th></th>\n",
       "      <th>SOURCE_SUBREDDIT</th>\n",
       "      <th>TARGET_SUBREDDIT</th>\n",
       "      <th>POST_ID</th>\n",
       "      <th>TIMESTAMP</th>\n",
       "      <th>LINK_SENTIMENT</th>\n",
       "      <th>Number of characters without counting white space</th>\n",
       "      <th>Fraction of alphabetical characters</th>\n",
       "      <th>Fraction of digits</th>\n",
       "      <th>Fraction of uppercase characters</th>\n",
       "      <th>Fraction of white spaces</th>\n",
       "      <th>...</th>\n",
       "      <th>LIWC_Leisure</th>\n",
       "      <th>LIWC_Home</th>\n",
       "      <th>LIWC_Money</th>\n",
       "      <th>LIWC_Relig</th>\n",
       "      <th>LIWC_Death</th>\n",
       "      <th>LIWC_Assent</th>\n",
       "      <th>LIWC_Dissent</th>\n",
       "      <th>LIWC_Nonflu</th>\n",
       "      <th>LIWC_Filler</th>\n",
       "      <th></th>\n",
       "    </tr>\n",
       "  </thead>\n",
       "  <tbody>\n",
       "    <tr>\n",
       "      <th>0</th>\n",
       "      <td>leagueoflegends</td>\n",
       "      <td>teamredditteams</td>\n",
       "      <td>1u4nrps</td>\n",
       "      <td>2013-12-31 16:39:58</td>\n",
       "      <td>1</td>\n",
       "      <td>345.0</td>\n",
       "      <td>298.0</td>\n",
       "      <td>0.756522</td>\n",
       "      <td>0.017391</td>\n",
       "      <td>0.086957</td>\n",
       "      <td>...</td>\n",
       "      <td>0.068966</td>\n",
       "      <td>0.034483</td>\n",
       "      <td>0.0</td>\n",
       "      <td>0.0</td>\n",
       "      <td>0.0</td>\n",
       "      <td>0.0</td>\n",
       "      <td>0.0</td>\n",
       "      <td>0.0</td>\n",
       "      <td>0.000000</td>\n",
       "      <td>0.000000</td>\n",
       "    </tr>\n",
       "    <tr>\n",
       "      <th>1</th>\n",
       "      <td>theredlion</td>\n",
       "      <td>soccer</td>\n",
       "      <td>1u4qkd</td>\n",
       "      <td>2013-12-31 18:18:37</td>\n",
       "      <td>-1</td>\n",
       "      <td>101.0</td>\n",
       "      <td>98.0</td>\n",
       "      <td>0.742574</td>\n",
       "      <td>0.019802</td>\n",
       "      <td>0.049505</td>\n",
       "      <td>...</td>\n",
       "      <td>0.000000</td>\n",
       "      <td>0.066667</td>\n",
       "      <td>0.0</td>\n",
       "      <td>0.0</td>\n",
       "      <td>0.0</td>\n",
       "      <td>0.0</td>\n",
       "      <td>0.0</td>\n",
       "      <td>0.0</td>\n",
       "      <td>0.000000</td>\n",
       "      <td>0.000000</td>\n",
       "    </tr>\n",
       "    <tr>\n",
       "      <th>2</th>\n",
       "      <td>inlandempire</td>\n",
       "      <td>bikela</td>\n",
       "      <td>1u4qlzs</td>\n",
       "      <td>2014-01-01 14:54:35</td>\n",
       "      <td>1</td>\n",
       "      <td>85.0</td>\n",
       "      <td>85.0</td>\n",
       "      <td>0.752941</td>\n",
       "      <td>0.023529</td>\n",
       "      <td>0.082353</td>\n",
       "      <td>...</td>\n",
       "      <td>0.000000</td>\n",
       "      <td>0.000000</td>\n",
       "      <td>0.0</td>\n",
       "      <td>0.0</td>\n",
       "      <td>0.0</td>\n",
       "      <td>0.0</td>\n",
       "      <td>0.0</td>\n",
       "      <td>0.0</td>\n",
       "      <td>0.000000</td>\n",
       "      <td>0.000000</td>\n",
       "    </tr>\n",
       "    <tr>\n",
       "      <th>3</th>\n",
       "      <td>nfl</td>\n",
       "      <td>cfb</td>\n",
       "      <td>1u4sjvs</td>\n",
       "      <td>2013-12-31 17:37:55</td>\n",
       "      <td>1</td>\n",
       "      <td>1124.0</td>\n",
       "      <td>949.0</td>\n",
       "      <td>0.772242</td>\n",
       "      <td>0.001779</td>\n",
       "      <td>0.057829</td>\n",
       "      <td>...</td>\n",
       "      <td>0.031250</td>\n",
       "      <td>0.020833</td>\n",
       "      <td>0.0</td>\n",
       "      <td>0.0</td>\n",
       "      <td>0.0</td>\n",
       "      <td>0.0</td>\n",
       "      <td>0.0</td>\n",
       "      <td>0.0</td>\n",
       "      <td>0.020833</td>\n",
       "      <td>0.005208</td>\n",
       "    </tr>\n",
       "    <tr>\n",
       "      <th>4</th>\n",
       "      <td>playmygame</td>\n",
       "      <td>gamedev</td>\n",
       "      <td>1u4w5ss</td>\n",
       "      <td>2014-01-01 02:51:13</td>\n",
       "      <td>1</td>\n",
       "      <td>715.0</td>\n",
       "      <td>622.0</td>\n",
       "      <td>0.777622</td>\n",
       "      <td>0.006993</td>\n",
       "      <td>0.025175</td>\n",
       "      <td>...</td>\n",
       "      <td>0.016667</td>\n",
       "      <td>0.025000</td>\n",
       "      <td>0.0</td>\n",
       "      <td>0.0</td>\n",
       "      <td>0.0</td>\n",
       "      <td>0.0</td>\n",
       "      <td>0.0</td>\n",
       "      <td>0.0</td>\n",
       "      <td>0.000000</td>\n",
       "      <td>0.008333</td>\n",
       "    </tr>\n",
       "  </tbody>\n",
       "</table>\n",
       "<p>5 rows × 91 columns</p>\n",
       "</div>"
      ],
      "text/plain": [
       "  SOURCE_SUBREDDIT TARGET_SUBREDDIT  POST_ID            TIMESTAMP  \\\n",
       "0  leagueoflegends  teamredditteams  1u4nrps  2013-12-31 16:39:58   \n",
       "1       theredlion           soccer   1u4qkd  2013-12-31 18:18:37   \n",
       "2     inlandempire           bikela  1u4qlzs  2014-01-01 14:54:35   \n",
       "3              nfl              cfb  1u4sjvs  2013-12-31 17:37:55   \n",
       "4       playmygame          gamedev  1u4w5ss  2014-01-01 02:51:13   \n",
       "\n",
       "   LINK_SENTIMENT  Number of characters without counting white space  \\\n",
       "0               1                                              345.0   \n",
       "1              -1                                              101.0   \n",
       "2               1                                               85.0   \n",
       "3               1                                             1124.0   \n",
       "4               1                                              715.0   \n",
       "\n",
       "   Fraction of alphabetical characters  Fraction of digits  \\\n",
       "0                                298.0            0.756522   \n",
       "1                                 98.0            0.742574   \n",
       "2                                 85.0            0.752941   \n",
       "3                                949.0            0.772242   \n",
       "4                                622.0            0.777622   \n",
       "\n",
       "   Fraction of uppercase characters  Fraction of white spaces  ...  \\\n",
       "0                          0.017391                  0.086957  ...   \n",
       "1                          0.019802                  0.049505  ...   \n",
       "2                          0.023529                  0.082353  ...   \n",
       "3                          0.001779                  0.057829  ...   \n",
       "4                          0.006993                  0.025175  ...   \n",
       "\n",
       "    LIWC_Leisure   LIWC_Home   LIWC_Money   LIWC_Relig   LIWC_Death  \\\n",
       "0       0.068966    0.034483          0.0          0.0          0.0   \n",
       "1       0.000000    0.066667          0.0          0.0          0.0   \n",
       "2       0.000000    0.000000          0.0          0.0          0.0   \n",
       "3       0.031250    0.020833          0.0          0.0          0.0   \n",
       "4       0.016667    0.025000          0.0          0.0          0.0   \n",
       "\n",
       "    LIWC_Assent   LIWC_Dissent   LIWC_Nonflu   LIWC_Filler            \n",
       "0           0.0            0.0           0.0      0.000000  0.000000  \n",
       "1           0.0            0.0           0.0      0.000000  0.000000  \n",
       "2           0.0            0.0           0.0      0.000000  0.000000  \n",
       "3           0.0            0.0           0.0      0.020833  0.005208  \n",
       "4           0.0            0.0           0.0      0.000000  0.008333  \n",
       "\n",
       "[5 rows x 91 columns]"
      ]
     },
     "execution_count": 362,
     "metadata": {},
     "output_type": "execute_result"
    }
   ],
   "source": [
    "df.head()"
   ]
  },
  {
   "cell_type": "code",
   "execution_count": 7,
   "metadata": {},
   "outputs": [],
   "source": [
    "top_count = 15\n",
    "source_vc = dict(df[\"SOURCE_SUBREDDIT\"].value_counts())\n",
    "target_vc = dict(df[\"TARGET_SUBREDDIT\"].value_counts())\n",
    "top_sources = sorted([(sub,source_vc[sub]) for sub in source_vc],reverse=True,key=lambda x: x[1])[:top_count]\n",
    "top_targets = sorted([(sub,target_vc[sub]) for sub in target_vc],reverse=True,key=lambda x: x[1])[:top_count]"
   ]
  },
  {
   "cell_type": "code",
   "execution_count": 8,
   "metadata": {},
   "outputs": [
    {
     "name": "stderr",
     "output_type": "stream",
     "text": [
      "/Users/juliafiksinski/miniconda3/lib/python3.7/site-packages/ipykernel_launcher.py:3: UserWarning: Boolean Series key will be reindexed to match DataFrame index.\n",
      "  This is separate from the ipykernel package so we can avoid doing imports until\n"
     ]
    }
   ],
   "source": [
    "top_sources_names = [t[0] for t in top_sources]\n",
    "top_targets_names = [t[0] for t in top_targets]\n",
    "filtered_df = df[df[\"SOURCE_SUBREDDIT\"].isin(top_sources_names)][df[\"TARGET_SUBREDDIT\"].isin(top_targets_names)]"
   ]
  },
  {
   "cell_type": "markdown",
   "metadata": {},
   "source": [
    "# Data Visualization (Plots)"
   ]
  },
  {
   "cell_type": "code",
   "execution_count": 35,
   "metadata": {},
   "outputs": [
    {
     "ename": "KeyboardInterrupt",
     "evalue": "",
     "output_type": "error",
     "traceback": [
      "\u001b[0;31m---------------------------------------------------------------------------\u001b[0m",
      "\u001b[0;31mKeyboardInterrupt\u001b[0m                         Traceback (most recent call last)",
      "\u001b[0;32m<ipython-input-35-0ad8f1db5b86>\u001b[0m in \u001b[0;36m<module>\u001b[0;34m\u001b[0m\n\u001b[0;32m----> 1\u001b[0;31m \u001b[0msource_freq\u001b[0m \u001b[0;34m=\u001b[0m \u001b[0;34m[\u001b[0m\u001b[0mdict\u001b[0m\u001b[0;34m(\u001b[0m\u001b[0mdf\u001b[0m\u001b[0;34m[\u001b[0m\u001b[0;34m\"SOURCE_SUBREDDIT\"\u001b[0m\u001b[0;34m]\u001b[0m\u001b[0;34m.\u001b[0m\u001b[0mvalue_counts\u001b[0m\u001b[0;34m(\u001b[0m\u001b[0;34m)\u001b[0m\u001b[0;34m)\u001b[0m\u001b[0;34m[\u001b[0m\u001b[0mx\u001b[0m\u001b[0;34m]\u001b[0m \u001b[0;32mfor\u001b[0m \u001b[0mx\u001b[0m \u001b[0;32min\u001b[0m \u001b[0mdict\u001b[0m\u001b[0;34m(\u001b[0m\u001b[0mdf\u001b[0m\u001b[0;34m[\u001b[0m\u001b[0;34m\"SOURCE_SUBREDDIT\"\u001b[0m\u001b[0;34m]\u001b[0m\u001b[0;34m.\u001b[0m\u001b[0mvalue_counts\u001b[0m\u001b[0;34m(\u001b[0m\u001b[0;34m)\u001b[0m\u001b[0;34m)\u001b[0m\u001b[0;34m]\u001b[0m\u001b[0;34m\u001b[0m\u001b[0;34m\u001b[0m\u001b[0m\n\u001b[0m",
      "\u001b[0;32m<ipython-input-35-0ad8f1db5b86>\u001b[0m in \u001b[0;36m<listcomp>\u001b[0;34m(.0)\u001b[0m\n\u001b[0;32m----> 1\u001b[0;31m \u001b[0msource_freq\u001b[0m \u001b[0;34m=\u001b[0m \u001b[0;34m[\u001b[0m\u001b[0mdict\u001b[0m\u001b[0;34m(\u001b[0m\u001b[0mdf\u001b[0m\u001b[0;34m[\u001b[0m\u001b[0;34m\"SOURCE_SUBREDDIT\"\u001b[0m\u001b[0;34m]\u001b[0m\u001b[0;34m.\u001b[0m\u001b[0mvalue_counts\u001b[0m\u001b[0;34m(\u001b[0m\u001b[0;34m)\u001b[0m\u001b[0;34m)\u001b[0m\u001b[0;34m[\u001b[0m\u001b[0mx\u001b[0m\u001b[0;34m]\u001b[0m \u001b[0;32mfor\u001b[0m \u001b[0mx\u001b[0m \u001b[0;32min\u001b[0m \u001b[0mdict\u001b[0m\u001b[0;34m(\u001b[0m\u001b[0mdf\u001b[0m\u001b[0;34m[\u001b[0m\u001b[0;34m\"SOURCE_SUBREDDIT\"\u001b[0m\u001b[0;34m]\u001b[0m\u001b[0;34m.\u001b[0m\u001b[0mvalue_counts\u001b[0m\u001b[0;34m(\u001b[0m\u001b[0;34m)\u001b[0m\u001b[0;34m)\u001b[0m\u001b[0;34m]\u001b[0m\u001b[0;34m\u001b[0m\u001b[0;34m\u001b[0m\u001b[0m\n\u001b[0m",
      "\u001b[0;32m~/miniconda3/lib/python3.7/site-packages/pandas/core/series.py\u001b[0m in \u001b[0;36m__getitem__\u001b[0;34m(self, key)\u001b[0m\n\u001b[1;32m   1069\u001b[0m         \u001b[0mkey\u001b[0m \u001b[0;34m=\u001b[0m \u001b[0mcom\u001b[0m\u001b[0;34m.\u001b[0m\u001b[0mapply_if_callable\u001b[0m\u001b[0;34m(\u001b[0m\u001b[0mkey\u001b[0m\u001b[0;34m,\u001b[0m \u001b[0mself\u001b[0m\u001b[0;34m)\u001b[0m\u001b[0;34m\u001b[0m\u001b[0;34m\u001b[0m\u001b[0m\n\u001b[1;32m   1070\u001b[0m         \u001b[0;32mtry\u001b[0m\u001b[0;34m:\u001b[0m\u001b[0;34m\u001b[0m\u001b[0;34m\u001b[0m\u001b[0m\n\u001b[0;32m-> 1071\u001b[0;31m             \u001b[0mresult\u001b[0m \u001b[0;34m=\u001b[0m \u001b[0mself\u001b[0m\u001b[0;34m.\u001b[0m\u001b[0mindex\u001b[0m\u001b[0;34m.\u001b[0m\u001b[0mget_value\u001b[0m\u001b[0;34m(\u001b[0m\u001b[0mself\u001b[0m\u001b[0;34m,\u001b[0m \u001b[0mkey\u001b[0m\u001b[0;34m)\u001b[0m\u001b[0;34m\u001b[0m\u001b[0;34m\u001b[0m\u001b[0m\n\u001b[0m\u001b[1;32m   1072\u001b[0m \u001b[0;34m\u001b[0m\u001b[0m\n\u001b[1;32m   1073\u001b[0m             \u001b[0;32mif\u001b[0m \u001b[0;32mnot\u001b[0m \u001b[0mis_scalar\u001b[0m\u001b[0;34m(\u001b[0m\u001b[0mresult\u001b[0m\u001b[0;34m)\u001b[0m\u001b[0;34m:\u001b[0m\u001b[0;34m\u001b[0m\u001b[0;34m\u001b[0m\u001b[0m\n",
      "\u001b[0;31mKeyboardInterrupt\u001b[0m: "
     ]
    }
   ],
   "source": [
    "source_freq = [dict(df[\"SOURCE_SUBREDDIT\"].value_counts())[x] for x in dict(df[\"SOURCE_SUBREDDIT\"].value_counts())]"
   ]
  },
  {
   "cell_type": "code",
   "execution_count": null,
   "metadata": {},
   "outputs": [],
   "source": []
  },
  {
   "cell_type": "code",
   "execution_count": null,
   "metadata": {},
   "outputs": [],
   "source": [
    "# plt.hist(df[\"SOURCE_SUBREDDIT\"])"
   ]
  },
  {
   "cell_type": "code",
   "execution_count": 14,
   "metadata": {},
   "outputs": [],
   "source": [
    "### Code to generate histograms for distribution visualization\n",
    "# hist_columns = [' Negative sentiment calculated by VADER',\n",
    "#                 ' Positive sentiment calculated by VADER',\n",
    "#                 ' Compound sentiment calculated by VADER',\n",
    "#                ' Average word length',\n",
    "#                'Number of words',\n",
    "#                'Number of unique works',\n",
    "#                ' Average number of characters per sentence']\n",
    "# filenames = ['negative_vader','positive_vader','compound_vader',\n",
    "#              'average_word_length','num_words','num_unique_words',\n",
    "#             'average_chars_per_sentence']\n",
    "# for i in range (len(hist_columns)):\n",
    "#     filename = filenames[i]\n",
    "#     plt.hist(df[hist_columns[i]],bins=10000)\n",
    "#     plt.title(hist_columns[i][1:])\n",
    "#     plt.savefig(\"plots/\"+filename+\".png\")\n",
    "#     plt.show()"
   ]
  },
  {
   "cell_type": "code",
   "execution_count": 20,
   "metadata": {},
   "outputs": [],
   "source": [
    "# plt.hist(df[' Positive sentiment calculated by VADER'],bins=10000)\n",
    "# plt.savefig(\"plots/positive_vader.png\")\n",
    "# plt.show()"
   ]
  },
  {
   "cell_type": "markdown",
   "metadata": {},
   "source": [
    "# Graphs"
   ]
  },
  {
   "cell_type": "code",
   "execution_count": 103,
   "metadata": {},
   "outputs": [],
   "source": [
    "column = \"leagueoflegends\""
   ]
  },
  {
   "cell_type": "code",
   "execution_count": 106,
   "metadata": {},
   "outputs": [
    {
     "data": {
      "text/html": [
       "<div>\n",
       "<style scoped>\n",
       "    .dataframe tbody tr th:only-of-type {\n",
       "        vertical-align: middle;\n",
       "    }\n",
       "\n",
       "    .dataframe tbody tr th {\n",
       "        vertical-align: top;\n",
       "    }\n",
       "\n",
       "    .dataframe thead th {\n",
       "        text-align: right;\n",
       "    }\n",
       "</style>\n",
       "<table border=\"1\" class=\"dataframe\">\n",
       "  <thead>\n",
       "    <tr style=\"text-align: right;\">\n",
       "      <th></th>\n",
       "      <th>SOURCE_SUBREDDIT</th>\n",
       "      <th>TARGET_SUBREDDIT</th>\n",
       "      <th>POST_ID</th>\n",
       "      <th>TIMESTAMP</th>\n",
       "      <th>LINK_SENTIMENT</th>\n",
       "      <th>Number of characters without counting white space</th>\n",
       "      <th>Fraction of alphabetical characters</th>\n",
       "      <th>Fraction of digits</th>\n",
       "      <th>Fraction of uppercase characters</th>\n",
       "      <th>Fraction of white spaces</th>\n",
       "      <th>...</th>\n",
       "      <th>LIWC_Leisure</th>\n",
       "      <th>LIWC_Home</th>\n",
       "      <th>LIWC_Money</th>\n",
       "      <th>LIWC_Relig</th>\n",
       "      <th>LIWC_Death</th>\n",
       "      <th>LIWC_Assent</th>\n",
       "      <th>LIWC_Dissent</th>\n",
       "      <th>LIWC_Nonflu</th>\n",
       "      <th>LIWC_Filler</th>\n",
       "      <th></th>\n",
       "    </tr>\n",
       "  </thead>\n",
       "  <tbody>\n",
       "    <tr>\n",
       "      <th>72</th>\n",
       "      <td>circloljerk</td>\n",
       "      <td>leagueoflegends</td>\n",
       "      <td>1u7kcns</td>\n",
       "      <td>2014-01-01 19:30:46</td>\n",
       "      <td>1</td>\n",
       "      <td>1648.0</td>\n",
       "      <td>1417.0</td>\n",
       "      <td>0.736044</td>\n",
       "      <td>0.001820</td>\n",
       "      <td>0.033374</td>\n",
       "      <td>...</td>\n",
       "      <td>0.029046</td>\n",
       "      <td>0.008299</td>\n",
       "      <td>0.000000</td>\n",
       "      <td>0.000000</td>\n",
       "      <td>0.004149</td>\n",
       "      <td>0.020747</td>\n",
       "      <td>0.004149</td>\n",
       "      <td>0.000000</td>\n",
       "      <td>0.000000</td>\n",
       "      <td>0.004149</td>\n",
       "    </tr>\n",
       "    <tr>\n",
       "      <th>318</th>\n",
       "      <td>leagueofgiving</td>\n",
       "      <td>leagueoflegends</td>\n",
       "      <td>1ue7ugs</td>\n",
       "      <td>2014-01-04 09:18:47</td>\n",
       "      <td>1</td>\n",
       "      <td>625.0</td>\n",
       "      <td>559.0</td>\n",
       "      <td>0.752000</td>\n",
       "      <td>0.038400</td>\n",
       "      <td>0.086400</td>\n",
       "      <td>...</td>\n",
       "      <td>0.052632</td>\n",
       "      <td>0.000000</td>\n",
       "      <td>0.000000</td>\n",
       "      <td>0.000000</td>\n",
       "      <td>0.000000</td>\n",
       "      <td>0.000000</td>\n",
       "      <td>0.010526</td>\n",
       "      <td>0.000000</td>\n",
       "      <td>0.000000</td>\n",
       "      <td>0.000000</td>\n",
       "    </tr>\n",
       "    <tr>\n",
       "      <th>687</th>\n",
       "      <td>dawngate</td>\n",
       "      <td>leagueoflegends</td>\n",
       "      <td>1umgahs</td>\n",
       "      <td>2014-01-07 12:29:25</td>\n",
       "      <td>1</td>\n",
       "      <td>511.0</td>\n",
       "      <td>457.0</td>\n",
       "      <td>0.745597</td>\n",
       "      <td>0.033268</td>\n",
       "      <td>0.046967</td>\n",
       "      <td>...</td>\n",
       "      <td>0.012048</td>\n",
       "      <td>0.012048</td>\n",
       "      <td>0.000000</td>\n",
       "      <td>0.000000</td>\n",
       "      <td>0.000000</td>\n",
       "      <td>0.000000</td>\n",
       "      <td>0.000000</td>\n",
       "      <td>0.000000</td>\n",
       "      <td>0.000000</td>\n",
       "      <td>0.000000</td>\n",
       "    </tr>\n",
       "    <tr>\n",
       "      <th>785</th>\n",
       "      <td>subredditdrama</td>\n",
       "      <td>leagueoflegends</td>\n",
       "      <td>1uok68s</td>\n",
       "      <td>2014-01-07 19:53:10</td>\n",
       "      <td>1</td>\n",
       "      <td>6571.0</td>\n",
       "      <td>5552.0</td>\n",
       "      <td>0.789225</td>\n",
       "      <td>0.003805</td>\n",
       "      <td>0.032111</td>\n",
       "      <td>...</td>\n",
       "      <td>0.043946</td>\n",
       "      <td>0.025112</td>\n",
       "      <td>0.000897</td>\n",
       "      <td>0.006278</td>\n",
       "      <td>0.000897</td>\n",
       "      <td>0.000000</td>\n",
       "      <td>0.003587</td>\n",
       "      <td>0.000000</td>\n",
       "      <td>0.000000</td>\n",
       "      <td>0.000000</td>\n",
       "    </tr>\n",
       "    <tr>\n",
       "      <th>1255</th>\n",
       "      <td>feelsofjustice</td>\n",
       "      <td>leagueoflegends</td>\n",
       "      <td>1uyh70s</td>\n",
       "      <td>2014-01-11 05:51:00</td>\n",
       "      <td>1</td>\n",
       "      <td>250.0</td>\n",
       "      <td>228.0</td>\n",
       "      <td>0.764000</td>\n",
       "      <td>0.008000</td>\n",
       "      <td>0.036000</td>\n",
       "      <td>...</td>\n",
       "      <td>0.027027</td>\n",
       "      <td>0.027027</td>\n",
       "      <td>0.000000</td>\n",
       "      <td>0.027027</td>\n",
       "      <td>0.000000</td>\n",
       "      <td>0.000000</td>\n",
       "      <td>0.000000</td>\n",
       "      <td>0.000000</td>\n",
       "      <td>0.000000</td>\n",
       "      <td>0.000000</td>\n",
       "    </tr>\n",
       "    <tr>\n",
       "      <th>...</th>\n",
       "      <td>...</td>\n",
       "      <td>...</td>\n",
       "      <td>...</td>\n",
       "      <td>...</td>\n",
       "      <td>...</td>\n",
       "      <td>...</td>\n",
       "      <td>...</td>\n",
       "      <td>...</td>\n",
       "      <td>...</td>\n",
       "      <td>...</td>\n",
       "      <td>...</td>\n",
       "      <td>...</td>\n",
       "      <td>...</td>\n",
       "      <td>...</td>\n",
       "      <td>...</td>\n",
       "      <td>...</td>\n",
       "      <td>...</td>\n",
       "      <td>...</td>\n",
       "      <td>...</td>\n",
       "      <td>...</td>\n",
       "      <td>...</td>\n",
       "    </tr>\n",
       "    <tr>\n",
       "      <th>286060</th>\n",
       "      <td>tristanamains</td>\n",
       "      <td>leagueoflegends</td>\n",
       "      <td>685sk2s</td>\n",
       "      <td>2017-04-28 11:51:00</td>\n",
       "      <td>1</td>\n",
       "      <td>686.0</td>\n",
       "      <td>582.0</td>\n",
       "      <td>0.782799</td>\n",
       "      <td>0.010204</td>\n",
       "      <td>0.017493</td>\n",
       "      <td>...</td>\n",
       "      <td>0.061404</td>\n",
       "      <td>0.026316</td>\n",
       "      <td>0.000000</td>\n",
       "      <td>0.008772</td>\n",
       "      <td>0.000000</td>\n",
       "      <td>0.000000</td>\n",
       "      <td>0.000000</td>\n",
       "      <td>0.000000</td>\n",
       "      <td>0.000000</td>\n",
       "      <td>0.000000</td>\n",
       "    </tr>\n",
       "    <tr>\n",
       "      <th>286064</th>\n",
       "      <td>reksaimains</td>\n",
       "      <td>leagueoflegends</td>\n",
       "      <td>685u8gs</td>\n",
       "      <td>2017-04-27 08:54:40</td>\n",
       "      <td>1</td>\n",
       "      <td>812.0</td>\n",
       "      <td>683.0</td>\n",
       "      <td>0.779557</td>\n",
       "      <td>0.008621</td>\n",
       "      <td>0.018473</td>\n",
       "      <td>...</td>\n",
       "      <td>0.051095</td>\n",
       "      <td>0.021898</td>\n",
       "      <td>0.000000</td>\n",
       "      <td>0.007299</td>\n",
       "      <td>0.000000</td>\n",
       "      <td>0.000000</td>\n",
       "      <td>0.000000</td>\n",
       "      <td>0.000000</td>\n",
       "      <td>0.000000</td>\n",
       "      <td>0.000000</td>\n",
       "    </tr>\n",
       "    <tr>\n",
       "      <th>286070</th>\n",
       "      <td>karthusmains</td>\n",
       "      <td>leagueoflegends</td>\n",
       "      <td>68605ks</td>\n",
       "      <td>2017-04-28 16:31:33</td>\n",
       "      <td>1</td>\n",
       "      <td>811.0</td>\n",
       "      <td>682.0</td>\n",
       "      <td>0.779285</td>\n",
       "      <td>0.008631</td>\n",
       "      <td>0.018496</td>\n",
       "      <td>...</td>\n",
       "      <td>0.051095</td>\n",
       "      <td>0.021898</td>\n",
       "      <td>0.000000</td>\n",
       "      <td>0.007299</td>\n",
       "      <td>0.000000</td>\n",
       "      <td>0.000000</td>\n",
       "      <td>0.000000</td>\n",
       "      <td>0.000000</td>\n",
       "      <td>0.000000</td>\n",
       "      <td>0.000000</td>\n",
       "    </tr>\n",
       "    <tr>\n",
       "      <th>286075</th>\n",
       "      <td>urgotmains</td>\n",
       "      <td>leagueoflegends</td>\n",
       "      <td>68631fs</td>\n",
       "      <td>2017-04-27 07:39:27</td>\n",
       "      <td>1</td>\n",
       "      <td>811.0</td>\n",
       "      <td>682.0</td>\n",
       "      <td>0.779285</td>\n",
       "      <td>0.008631</td>\n",
       "      <td>0.018496</td>\n",
       "      <td>...</td>\n",
       "      <td>0.051095</td>\n",
       "      <td>0.021898</td>\n",
       "      <td>0.000000</td>\n",
       "      <td>0.007299</td>\n",
       "      <td>0.000000</td>\n",
       "      <td>0.000000</td>\n",
       "      <td>0.000000</td>\n",
       "      <td>0.000000</td>\n",
       "      <td>0.000000</td>\n",
       "      <td>0.000000</td>\n",
       "    </tr>\n",
       "    <tr>\n",
       "      <th>286159</th>\n",
       "      <td>test</td>\n",
       "      <td>leagueoflegends</td>\n",
       "      <td>688ggks</td>\n",
       "      <td>2017-04-29 02:08:08</td>\n",
       "      <td>1</td>\n",
       "      <td>10662.0</td>\n",
       "      <td>8948.0</td>\n",
       "      <td>0.735322</td>\n",
       "      <td>0.018383</td>\n",
       "      <td>0.031701</td>\n",
       "      <td>...</td>\n",
       "      <td>0.049532</td>\n",
       "      <td>0.037975</td>\n",
       "      <td>0.000550</td>\n",
       "      <td>0.001101</td>\n",
       "      <td>0.004403</td>\n",
       "      <td>0.001651</td>\n",
       "      <td>0.000000</td>\n",
       "      <td>0.001651</td>\n",
       "      <td>0.001651</td>\n",
       "      <td>0.001651</td>\n",
       "    </tr>\n",
       "  </tbody>\n",
       "</table>\n",
       "<p>2420 rows × 91 columns</p>\n",
       "</div>"
      ],
      "text/plain": [
       "       SOURCE_SUBREDDIT TARGET_SUBREDDIT  POST_ID            TIMESTAMP  \\\n",
       "72          circloljerk  leagueoflegends  1u7kcns  2014-01-01 19:30:46   \n",
       "318      leagueofgiving  leagueoflegends  1ue7ugs  2014-01-04 09:18:47   \n",
       "687            dawngate  leagueoflegends  1umgahs  2014-01-07 12:29:25   \n",
       "785      subredditdrama  leagueoflegends  1uok68s  2014-01-07 19:53:10   \n",
       "1255     feelsofjustice  leagueoflegends  1uyh70s  2014-01-11 05:51:00   \n",
       "...                 ...              ...      ...                  ...   \n",
       "286060    tristanamains  leagueoflegends  685sk2s  2017-04-28 11:51:00   \n",
       "286064      reksaimains  leagueoflegends  685u8gs  2017-04-27 08:54:40   \n",
       "286070     karthusmains  leagueoflegends  68605ks  2017-04-28 16:31:33   \n",
       "286075       urgotmains  leagueoflegends  68631fs  2017-04-27 07:39:27   \n",
       "286159             test  leagueoflegends  688ggks  2017-04-29 02:08:08   \n",
       "\n",
       "        LINK_SENTIMENT  Number of characters without counting white space  \\\n",
       "72                   1                                             1648.0   \n",
       "318                  1                                              625.0   \n",
       "687                  1                                              511.0   \n",
       "785                  1                                             6571.0   \n",
       "1255                 1                                              250.0   \n",
       "...                ...                                                ...   \n",
       "286060               1                                              686.0   \n",
       "286064               1                                              812.0   \n",
       "286070               1                                              811.0   \n",
       "286075               1                                              811.0   \n",
       "286159               1                                            10662.0   \n",
       "\n",
       "        Fraction of alphabetical characters  Fraction of digits  \\\n",
       "72                                   1417.0            0.736044   \n",
       "318                                   559.0            0.752000   \n",
       "687                                   457.0            0.745597   \n",
       "785                                  5552.0            0.789225   \n",
       "1255                                  228.0            0.764000   \n",
       "...                                     ...                 ...   \n",
       "286060                                582.0            0.782799   \n",
       "286064                                683.0            0.779557   \n",
       "286070                                682.0            0.779285   \n",
       "286075                                682.0            0.779285   \n",
       "286159                               8948.0            0.735322   \n",
       "\n",
       "        Fraction of uppercase characters  Fraction of white spaces  ...  \\\n",
       "72                              0.001820                  0.033374  ...   \n",
       "318                             0.038400                  0.086400  ...   \n",
       "687                             0.033268                  0.046967  ...   \n",
       "785                             0.003805                  0.032111  ...   \n",
       "1255                            0.008000                  0.036000  ...   \n",
       "...                                  ...                       ...  ...   \n",
       "286060                          0.010204                  0.017493  ...   \n",
       "286064                          0.008621                  0.018473  ...   \n",
       "286070                          0.008631                  0.018496  ...   \n",
       "286075                          0.008631                  0.018496  ...   \n",
       "286159                          0.018383                  0.031701  ...   \n",
       "\n",
       "         LIWC_Leisure   LIWC_Home   LIWC_Money   LIWC_Relig   LIWC_Death  \\\n",
       "72           0.029046    0.008299     0.000000     0.000000     0.004149   \n",
       "318          0.052632    0.000000     0.000000     0.000000     0.000000   \n",
       "687          0.012048    0.012048     0.000000     0.000000     0.000000   \n",
       "785          0.043946    0.025112     0.000897     0.006278     0.000897   \n",
       "1255         0.027027    0.027027     0.000000     0.027027     0.000000   \n",
       "...               ...         ...          ...          ...          ...   \n",
       "286060       0.061404    0.026316     0.000000     0.008772     0.000000   \n",
       "286064       0.051095    0.021898     0.000000     0.007299     0.000000   \n",
       "286070       0.051095    0.021898     0.000000     0.007299     0.000000   \n",
       "286075       0.051095    0.021898     0.000000     0.007299     0.000000   \n",
       "286159       0.049532    0.037975     0.000550     0.001101     0.004403   \n",
       "\n",
       "         LIWC_Assent   LIWC_Dissent   LIWC_Nonflu   LIWC_Filler            \n",
       "72          0.020747       0.004149      0.000000      0.000000  0.004149  \n",
       "318         0.000000       0.010526      0.000000      0.000000  0.000000  \n",
       "687         0.000000       0.000000      0.000000      0.000000  0.000000  \n",
       "785         0.000000       0.003587      0.000000      0.000000  0.000000  \n",
       "1255        0.000000       0.000000      0.000000      0.000000  0.000000  \n",
       "...              ...            ...           ...           ...       ...  \n",
       "286060      0.000000       0.000000      0.000000      0.000000  0.000000  \n",
       "286064      0.000000       0.000000      0.000000      0.000000  0.000000  \n",
       "286070      0.000000       0.000000      0.000000      0.000000  0.000000  \n",
       "286075      0.000000       0.000000      0.000000      0.000000  0.000000  \n",
       "286159      0.001651       0.000000      0.001651      0.001651  0.001651  \n",
       "\n",
       "[2420 rows x 91 columns]"
      ]
     },
     "execution_count": 106,
     "metadata": {},
     "output_type": "execute_result"
    }
   ],
   "source": [
    "df[df[\"TARGET_SUBREDDIT\"]==column]"
   ]
  },
  {
   "cell_type": "code",
   "execution_count": 105,
   "metadata": {},
   "outputs": [
    {
     "data": {
      "text/plain": [
       "(840, 91)"
      ]
     },
     "execution_count": 105,
     "metadata": {},
     "output_type": "execute_result"
    }
   ],
   "source": [
    "df[df[\"SOURCE_SUBREDDIT\"]==column].shape"
   ]
  },
  {
   "cell_type": "code",
   "execution_count": 78,
   "metadata": {},
   "outputs": [],
   "source": [
    "G=nx.from_pandas_edgelist(df, \n",
    "                          source='SOURCE_SUBREDDIT', \n",
    "                          target='TARGET_SUBREDDIT',\n",
    "                          create_using=nx.DiGraph())"
   ]
  },
  {
   "cell_type": "code",
   "execution_count": 69,
   "metadata": {},
   "outputs": [],
   "source": [
    "pageranks = nx.pagerank(G)"
   ]
  },
  {
   "cell_type": "code",
   "execution_count": 70,
   "metadata": {},
   "outputs": [
    {
     "data": {
      "text/plain": [
       "2.7951699463327364e-05"
      ]
     },
     "execution_count": 70,
     "metadata": {},
     "output_type": "execute_result"
    }
   ],
   "source": [
    "np.mean([pageranks[rank] for rank in pageranks])"
   ]
  },
  {
   "cell_type": "code",
   "execution_count": 71,
   "metadata": {},
   "outputs": [],
   "source": [
    "# closeness_centrality = nx.closeness_centrality(G)"
   ]
  },
  {
   "cell_type": "code",
   "execution_count": 72,
   "metadata": {},
   "outputs": [],
   "source": [
    "left_eig = nx.algorithms.centrality.eigenvector_centrality(G)"
   ]
  },
  {
   "cell_type": "code",
   "execution_count": 74,
   "metadata": {},
   "outputs": [
    {
     "data": {
      "text/plain": [
       "0.001285459760708005"
      ]
     },
     "execution_count": 74,
     "metadata": {},
     "output_type": "execute_result"
    }
   ],
   "source": [
    "np.mean([left_eig[rank] for rank in left_eig])"
   ]
  },
  {
   "cell_type": "code",
   "execution_count": 80,
   "metadata": {},
   "outputs": [
    {
     "data": {
      "text/plain": [
       "0.00021536442609281571"
      ]
     },
     "execution_count": 80,
     "metadata": {},
     "output_type": "execute_result"
    }
   ],
   "source": [
    "degree_centrality = nx.degree_centrality(G)\n",
    "np.mean([degree_centrality[rank] for rank in degree_centrality])"
   ]
  },
  {
   "cell_type": "code",
   "execution_count": 79,
   "metadata": {},
   "outputs": [
    {
     "data": {
      "text/plain": [
       "0.0001942828676044999"
      ]
     },
     "execution_count": 79,
     "metadata": {},
     "output_type": "execute_result"
    }
   ],
   "source": [
    "in_degree_centrality = nx.in_degree_centrality(G)\n",
    "np.mean([degree_centrality[rank] for rank in in_degree_centrality])"
   ]
  },
  {
   "cell_type": "code",
   "execution_count": 81,
   "metadata": {},
   "outputs": [
    {
     "data": {
      "text/plain": [
       "0.00021536442609281571"
      ]
     },
     "execution_count": 81,
     "metadata": {},
     "output_type": "execute_result"
    }
   ],
   "source": [
    "out_degree_centrality = nx.out_degree_centrality(G)\n",
    "np.mean([degree_centrality[rank] for rank in in_degree_centrality])"
   ]
  },
  {
   "cell_type": "code",
   "execution_count": null,
   "metadata": {},
   "outputs": [],
   "source": [
    "# betweenness_centrality = nx.betweenness_centrality(G)"
   ]
  },
  {
   "cell_type": "code",
   "execution_count": 7,
   "metadata": {},
   "outputs": [],
   "source": []
  },
  {
   "cell_type": "code",
   "execution_count": 17,
   "metadata": {},
   "outputs": [
    {
     "ename": "NameError",
     "evalue": "name 'top_sources' is not defined",
     "output_type": "error",
     "traceback": [
      "\u001b[0;31m---------------------------------------------------------------------------\u001b[0m",
      "\u001b[0;31mNameError\u001b[0m                                 Traceback (most recent call last)",
      "\u001b[0;32m<ipython-input-17-6230eac2c750>\u001b[0m in \u001b[0;36m<module>\u001b[0;34m()\u001b[0m\n\u001b[0;32m----> 1\u001b[0;31m \u001b[0mtop_sources_names\u001b[0m \u001b[0;34m=\u001b[0m \u001b[0;34m[\u001b[0m\u001b[0mt\u001b[0m\u001b[0;34m[\u001b[0m\u001b[0;36m0\u001b[0m\u001b[0;34m]\u001b[0m \u001b[0;32mfor\u001b[0m \u001b[0mt\u001b[0m \u001b[0;32min\u001b[0m \u001b[0mtop_sources\u001b[0m\u001b[0;34m]\u001b[0m\u001b[0;34m\u001b[0m\u001b[0m\n\u001b[0m\u001b[1;32m      2\u001b[0m \u001b[0mtop_targets_names\u001b[0m \u001b[0;34m=\u001b[0m \u001b[0;34m[\u001b[0m\u001b[0mt\u001b[0m\u001b[0;34m[\u001b[0m\u001b[0;36m0\u001b[0m\u001b[0;34m]\u001b[0m \u001b[0;32mfor\u001b[0m \u001b[0mt\u001b[0m \u001b[0;32min\u001b[0m \u001b[0mtop_targets\u001b[0m\u001b[0;34m]\u001b[0m\u001b[0;34m\u001b[0m\u001b[0m\n\u001b[1;32m      3\u001b[0m \u001b[0mfiltered_df\u001b[0m \u001b[0;34m=\u001b[0m \u001b[0mdf\u001b[0m\u001b[0;34m[\u001b[0m\u001b[0mdf\u001b[0m\u001b[0;34m[\u001b[0m\u001b[0;34m\"SOURCE_SUBREDDIT\"\u001b[0m\u001b[0;34m]\u001b[0m\u001b[0;34m.\u001b[0m\u001b[0misin\u001b[0m\u001b[0;34m(\u001b[0m\u001b[0mtop_sources_names\u001b[0m\u001b[0;34m)\u001b[0m\u001b[0;34m]\u001b[0m\u001b[0;34m[\u001b[0m\u001b[0mdf\u001b[0m\u001b[0;34m[\u001b[0m\u001b[0;34m\"TARGET_SUBREDDIT\"\u001b[0m\u001b[0;34m]\u001b[0m\u001b[0;34m.\u001b[0m\u001b[0misin\u001b[0m\u001b[0;34m(\u001b[0m\u001b[0mtop_targets_names\u001b[0m\u001b[0;34m)\u001b[0m\u001b[0;34m]\u001b[0m\u001b[0;34m\u001b[0m\u001b[0m\n",
      "\u001b[0;31mNameError\u001b[0m: name 'top_sources' is not defined"
     ]
    }
   ],
   "source": []
  },
  {
   "cell_type": "code",
   "execution_count": 9,
   "metadata": {},
   "outputs": [
    {
     "data": {
      "text/plain": [
       "5691"
      ]
     },
     "execution_count": 9,
     "metadata": {},
     "output_type": "execute_result"
    }
   ],
   "source": [
    "len(filtered_df)"
   ]
  },
  {
   "cell_type": "code",
   "execution_count": 50,
   "metadata": {},
   "outputs": [],
   "source": [
    "G_filtered = nx.from_pandas_edgelist(filtered_df, 'SOURCE_SUBREDDIT', 'TARGET_SUBREDDIT')"
   ]
  },
  {
   "cell_type": "code",
   "execution_count": 60,
   "metadata": {},
   "outputs": [
    {
     "data": {
      "text/plain": [
       "count             1985\n",
       "unique              15\n",
       "top       outoftheloop\n",
       "freq               264\n",
       "Name: SOURCE_SUBREDDIT, dtype: object"
      ]
     },
     "execution_count": 60,
     "metadata": {},
     "output_type": "execute_result"
    }
   ],
   "source": [
    "filtered_df[\"SOURCE_SUBREDDIT\"].describe()"
   ]
  },
  {
   "cell_type": "code",
   "execution_count": 61,
   "metadata": {},
   "outputs": [
    {
     "data": {
      "image/png": "[encoded data removed]",
      "text/plain": [
       "<Figure size 864x864 with 1 Axes>"
      ]
     },
     "metadata": {},
     "output_type": "display_data"
    }
   ],
   "source": [
    "plt.figure(3,figsize=(12,12)) \n",
    "nx.draw_networkx(G_filtered,arrows=True)\n",
    "# nx.draw_networkx_labels(G, pos[, labels, …])\n",
    "\n"
   ]
  },
  {
   "cell_type": "markdown",
   "metadata": {},
   "source": [
    "# Linear Regression"
   ]
  },
  {
   "cell_type": "code",
   "execution_count": 9,
   "metadata": {},
   "outputs": [],
   "source": [
    "# pip install sklearn\n",
    "from sklearn.preprocessing import OneHotEncoder, normalize\n",
    "from sklearn.linear_model import LinearRegression, LogisticRegression\n",
    "from sklearn.metrics import mean_squared_error as mse\n",
    "from sklearn.tree import DecisionTreeClassifier\n",
    "from sklearn.model_selection import train_test_split\n",
    "from sklearn.neighbors import KNeighborsClassifier\n",
    "from sklearn import svm"
   ]
  },
  {
   "cell_type": "code",
   "execution_count": 10,
   "metadata": {},
   "outputs": [
    {
     "data": {
      "text/plain": [
       "Index(['SOURCE_SUBREDDIT', 'TARGET_SUBREDDIT', 'POST_ID', 'TIMESTAMP',\n",
       "       'LINK_SENTIMENT', 'Number of characters without counting white space',\n",
       "       'Fraction of alphabetical characters', 'Fraction of digits',\n",
       "       'Fraction of uppercase characters', 'Fraction of white spaces',\n",
       "       'Fraction of special characters, such as comma, exclamation mark, etc.',\n",
       "       'Number of words', 'Number of unique works',\n",
       "       ' Number of long words (at least 6 characters)', ' Average word length',\n",
       "       ' Number of unique stopwords', ' Fraction of stopwords',\n",
       "       ' Number of sentences', ' Number of long sentences (at least 10 words)',\n",
       "       ' Average number of characters per sentence',\n",
       "       ' Average number of words per sentence', ' Automated readability index',\n",
       "       ' Positive sentiment calculated by VADER',\n",
       "       ' Negative sentiment calculated by VADER',\n",
       "       ' Compound sentiment calculated by VADER', ' LIWC_Funct',\n",
       "       ' LIWC_Pronoun', ' LIWC_Ppron', ' LIWC_I', ' LIWC_We', ' LIWC_You',\n",
       "       ' LIWC_SheHe', ' LIWC_They', ' LIWC_Ipron', ' LIWC_Article',\n",
       "       ' LIWC_Verbs', ' LIWC_AuxVb', ' LIWC_Past', ' LIWC_Present',\n",
       "       ' LIWC_Future', ' LIWC_Adverbs', ' LIWC_Prep', ' LIWC_Conj',\n",
       "       ' LIWC_Negate', ' LIWC_Quant', ' LIWC_Numbers', ' LIWC_Swear',\n",
       "       ' LIWC_Social', ' LIWC_Family', ' LIWC_Friends', ' LIWC_Humans',\n",
       "       ' LIWC_Affect', ' LIWC_Posemo', ' LIWC_Negemo', ' LIWC_Anx',\n",
       "       ' LIWC_Anger', ' LIWC_Sad', ' LIWC_CogMech', ' LIWC_Insight',\n",
       "       ' LIWC_Cause', ' LIWC_Discrep', ' LIWC_Tentat', ' LIWC_Certain',\n",
       "       ' LIWC_Inhib', ' LIWC_Incl', ' LIWC_Excl', ' LIWC_Percept', ' LIWC_See',\n",
       "       ' LIWC_Hear', ' LIWC_Feel', ' LIWC_Bio', ' LIWC_Body', ' LIWC_Health',\n",
       "       ' LIWC_Sexual', ' LIWC_Ingest', ' LIWC_Relativ', ' LIWC_Motion',\n",
       "       ' LIWC_Space', ' LIWC_Time', ' LIWC_Work', ' LIWC_Achiev',\n",
       "       ' LIWC_Leisure', ' LIWC_Home', ' LIWC_Money', ' LIWC_Relig',\n",
       "       ' LIWC_Death', ' LIWC_Assent', ' LIWC_Dissent', ' LIWC_Nonflu',\n",
       "       ' LIWC_Filler', ''],\n",
       "      dtype='object')"
      ]
     },
     "execution_count": 10,
     "metadata": {},
     "output_type": "execute_result"
    }
   ],
   "source": [
    "df.columns"
   ]
  },
  {
   "cell_type": "code",
   "execution_count": 11,
   "metadata": {},
   "outputs": [],
   "source": [
    "predict_column = [\"LINK_SENTIMENT\"]\n",
    "non_train_columns = [\"SOURCE_SUBREDDIT\", \"TARGET_SUBREDDIT\", \"POST_ID\", \"TIMESTAMP\"] + predict_column\n",
    "train_columns = [col for col in df.columns if col not in non_train_columns]\n"
   ]
  },
  {
   "cell_type": "code",
   "execution_count": null,
   "metadata": {},
   "outputs": [],
   "source": []
  },
  {
   "cell_type": "code",
   "execution_count": 12,
   "metadata": {},
   "outputs": [
    {
     "data": {
      "text/plain": [
       "LinearRegression(copy_X=True, fit_intercept=True, n_jobs=None, normalize=True)"
      ]
     },
     "execution_count": 12,
     "metadata": {},
     "output_type": "execute_result"
    }
   ],
   "source": [
    "reg = LinearRegression(normalize=True)\n",
    "X = np.array(df[train_columns])\n",
    "# y = np.array(df[predict_column])\n",
    "y = np.squeeze(np.array(df[predict_column]))\n",
    "y = np.where(y<0, 0,y)\n",
    "reg.fit(X,y)"
   ]
  },
  {
   "cell_type": "code",
   "execution_count": 13,
   "metadata": {},
   "outputs": [
    {
     "name": "stdout",
     "output_type": "stream",
     "text": [
      "0.07091511302724895\n",
      "0.06329006861170731\n"
     ]
    }
   ],
   "source": [
    "print(reg.score(X,y))\n",
    "ypreds = reg.predict(X)\n",
    "print(mse(y,ypreds))"
   ]
  },
  {
   "cell_type": "code",
   "execution_count": 14,
   "metadata": {},
   "outputs": [
    {
     "data": {
      "image/png": "[encoded data removed]",
      "text/plain": [
       "<Figure size 432x288 with 1 Axes>"
      ]
     },
     "metadata": {
      "needs_background": "light"
     },
     "output_type": "display_data"
    }
   ],
   "source": [
    "plt.scatter(y,ypreds)\n",
    "plt.show()"
   ]
  },
  {
   "cell_type": "code",
   "execution_count": 15,
   "metadata": {},
   "outputs": [
    {
     "data": {
      "text/plain": [
       "1385463675.3351364"
      ]
     },
     "execution_count": 15,
     "metadata": {},
     "output_type": "execute_result"
    }
   ],
   "source": [
    "np.dot(np.array(df[train_columns].iloc[0]), reg.coef_)"
   ]
  },
  {
   "cell_type": "code",
   "execution_count": 16,
   "metadata": {},
   "outputs": [
    {
     "data": {
      "text/plain": [
       "Index(['Number of characters without counting white space',\n",
       "       'Fraction of alphabetical characters', 'Fraction of digits',\n",
       "       'Fraction of uppercase characters', 'Fraction of white spaces',\n",
       "       'Fraction of special characters, such as comma, exclamation mark, etc.',\n",
       "       'Number of words', 'Number of unique works',\n",
       "       ' Number of long words (at least 6 characters)', ' Average word length',\n",
       "       ' Number of unique stopwords', ' Fraction of stopwords',\n",
       "       ' Number of sentences', ' Number of long sentences (at least 10 words)',\n",
       "       ' Average number of characters per sentence',\n",
       "       ' Average number of words per sentence', ' Automated readability index',\n",
       "       ' Positive sentiment calculated by VADER',\n",
       "       ' Negative sentiment calculated by VADER',\n",
       "       ' Compound sentiment calculated by VADER', ' LIWC_Funct',\n",
       "       ' LIWC_Pronoun', ' LIWC_Ppron', ' LIWC_I', ' LIWC_We', ' LIWC_You',\n",
       "       ' LIWC_SheHe', ' LIWC_They', ' LIWC_Ipron', ' LIWC_Article',\n",
       "       ' LIWC_Verbs', ' LIWC_AuxVb', ' LIWC_Past', ' LIWC_Present',\n",
       "       ' LIWC_Future', ' LIWC_Adverbs', ' LIWC_Prep', ' LIWC_Conj',\n",
       "       ' LIWC_Negate', ' LIWC_Quant', ' LIWC_Numbers', ' LIWC_Swear',\n",
       "       ' LIWC_Social', ' LIWC_Family', ' LIWC_Friends', ' LIWC_Humans',\n",
       "       ' LIWC_Affect', ' LIWC_Posemo', ' LIWC_Negemo', ' LIWC_Anx',\n",
       "       ' LIWC_Anger', ' LIWC_Sad', ' LIWC_CogMech', ' LIWC_Insight',\n",
       "       ' LIWC_Cause', ' LIWC_Discrep', ' LIWC_Tentat', ' LIWC_Certain',\n",
       "       ' LIWC_Inhib', ' LIWC_Incl', ' LIWC_Excl', ' LIWC_Percept', ' LIWC_See',\n",
       "       ' LIWC_Hear', ' LIWC_Feel', ' LIWC_Bio', ' LIWC_Body', ' LIWC_Health',\n",
       "       ' LIWC_Sexual', ' LIWC_Ingest', ' LIWC_Relativ', ' LIWC_Motion',\n",
       "       ' LIWC_Space', ' LIWC_Time', ' LIWC_Work', ' LIWC_Achiev',\n",
       "       ' LIWC_Leisure', ' LIWC_Home', ' LIWC_Money', ' LIWC_Relig',\n",
       "       ' LIWC_Death', ' LIWC_Assent', ' LIWC_Dissent', ' LIWC_Nonflu',\n",
       "       ' LIWC_Filler', ''],\n",
       "      dtype='object')"
      ]
     },
     "execution_count": 16,
     "metadata": {},
     "output_type": "execute_result"
    }
   ],
   "source": [
    "df[train_columns].columns"
   ]
  },
  {
   "cell_type": "code",
   "execution_count": 17,
   "metadata": {},
   "outputs": [],
   "source": [
    "corr = df.corr()"
   ]
  },
  {
   "cell_type": "code",
   "execution_count": 18,
   "metadata": {},
   "outputs": [
    {
     "data": {
      "text/plain": [
       "[('LINK_SENTIMENT', 1.0),\n",
       " (' LIWC_Sad', -0.1937843149630818),\n",
       " (' LIWC_Anx', -0.19026888657385765),\n",
       " (' Compound sentiment calculated by VADER', -0.18358772930389877),\n",
       " (' LIWC_Funct', 0.17012614818631064),\n",
       " (' LIWC_Social', -0.12198509262651887),\n",
       " (' LIWC_Ingest', -0.08774823615422249),\n",
       " (' LIWC_Affect', -0.0861938972314726),\n",
       " (' LIWC_Posemo', -0.0807544164159014),\n",
       " ('Fraction of digits', -0.07373510184329474),\n",
       " (' LIWC_Family', -0.07141111187965091),\n",
       " (' LIWC_Ipron', -0.06619028279107014),\n",
       " (' LIWC_They', -0.06029237218979959),\n",
       " (' LIWC_Body', -0.05986795697075054),\n",
       " ('Fraction of white spaces', 0.05025256576559943),\n",
       " (' LIWC_Anger', -0.04786300170207798),\n",
       " (' LIWC_Quant', -0.04785802070551377),\n",
       " (' LIWC_CogMech', -0.04735575704789673),\n",
       " (' LIWC_Article', -0.04715833161177882),\n",
       " (' LIWC_Assent', -0.044763583443085585),\n",
       " (' LIWC_Inhib', -0.04370125356031719),\n",
       " (' Negative sentiment calculated by VADER', 0.04225550128698732),\n",
       " (' Fraction of stopwords', -0.04056408538214915),\n",
       " (' LIWC_Ppron', -0.04026906969423631),\n",
       " ('Fraction of uppercase characters', 0.04018028064726774),\n",
       " (' LIWC_Sexual', -0.03716895061817333),\n",
       " (' LIWC_Leisure', 0.03540668443494649),\n",
       " (' LIWC_Home', 0.03509931061913539),\n",
       " (' LIWC_Incl', -0.0332180803111893),\n",
       " (' LIWC_Discrep', -0.03251636584139173),\n",
       " (' LIWC_Death', -0.03246775210680616),\n",
       " (' LIWC_Health', -0.031157284239853787),\n",
       " (' Number of unique stopwords', -0.030187019668599276),\n",
       " (' LIWC_Negemo', 0.029957406537862545),\n",
       " (' LIWC_Relig', 0.029595030135048495),\n",
       " (' LIWC_Adverbs', 0.02947215423613529),\n",
       " (' LIWC_You', 0.029046399623479695),\n",
       " (' LIWC_Nonflu', -0.02712379380427281),\n",
       " (' LIWC_Present', -0.026863992098392908),\n",
       " (' LIWC_Friends', -0.02679753735279047),\n",
       " (' Number of sentences', -0.026718919003586142),\n",
       " ('Number of words', 0.026679302463342592),\n",
       " (' LIWC_Pronoun', -0.025717514089431934),\n",
       " (' LIWC_Prep', -0.025219450532681785),\n",
       " (' LIWC_Motion', 0.025190413772059654),\n",
       " (' LIWC_Hear', 0.024096000740078224),\n",
       " (' LIWC_Tentat', 0.02399890810882625),\n",
       " (' LIWC_I', -0.022032700376478583),\n",
       " ('Fraction of special characters, such as comma, exclamation mark, etc.',\n",
       "  0.02195682630449364),\n",
       " (' Average number of characters per sentence', -0.02167278502601729),\n",
       " (' LIWC_Certain', 0.018736870493909555),\n",
       " (' LIWC_Feel', -0.018218921408586004),\n",
       " (' LIWC_Insight', -0.017970951969518263),\n",
       " (' LIWC_Achiev', 0.017827627000957844),\n",
       " (' LIWC_Dissent', -0.01767522308541641),\n",
       " (' LIWC_Negate', -0.017515674346672346),\n",
       " (' Automated readability index', 0.01733530409490163),\n",
       " ('', -0.016984349767990983),\n",
       " (' Number of long sentences (at least 10 words)', -0.01686543391535593),\n",
       " (' LIWC_Percept', -0.016795215788698335),\n",
       " (' Average number of words per sentence', 0.016690538821244032),\n",
       " (' LIWC_AuxVb', -0.016608632179185595),\n",
       " (' LIWC_Future', -0.016084444729419407),\n",
       " (' LIWC_Time', 0.01596914357696358),\n",
       " (' LIWC_Past', -0.014821115385424214),\n",
       " (' LIWC_Work', 0.014584679443105047),\n",
       " (' Number of long words (at least 6 characters)', -0.014134577147841514),\n",
       " (' Average word length', -0.013739522673939766),\n",
       " (' Positive sentiment calculated by VADER', 0.013166906110412036),\n",
       " (' LIWC_Space', 0.012202957611565745),\n",
       " (' LIWC_See', 0.012097453590790157),\n",
       " ('Number of unique works', -0.010538100614622849),\n",
       " (' LIWC_Verbs', -0.01020591090760693),\n",
       " (' LIWC_SheHe', 0.00870085422667413),\n",
       " ('Number of characters without counting white space', -0.008230393258510231),\n",
       " ('Fraction of alphabetical characters', -0.007531600325114282),\n",
       " (' LIWC_Bio', 0.007358520272642017),\n",
       " (' LIWC_Filler', 0.006793829346797116),\n",
       " (' LIWC_Humans', 0.0060265882729549055),\n",
       " (' LIWC_Excl', 0.004259148448608761),\n",
       " (' LIWC_Conj', -0.003961917027953179),\n",
       " (' LIWC_Cause', 0.0032866985570811262),\n",
       " (' LIWC_Money', 0.0016895341446748178),\n",
       " (' LIWC_We', -0.001454304595276223),\n",
       " (' LIWC_Numbers', 0.0009714420520568342),\n",
       " (' LIWC_Swear', 0.0007029157459970218),\n",
       " (' LIWC_Relativ', -0.0003986034515286083)]"
      ]
     },
     "execution_count": 18,
     "metadata": {},
     "output_type": "execute_result"
    }
   ],
   "source": [
    "corr_dict = dict(corr[\"LINK_SENTIMENT\"])\n",
    "sorted([(key, corr_dict[key]) for key in corr_dict], key=lambda t: abs(t[1]),reverse=True)"
   ]
  },
  {
   "cell_type": "code",
   "execution_count": 19,
   "metadata": {},
   "outputs": [
    {
     "data": {
      "text/plain": [
       "[(' LIWC_Article', -489520919488.468),\n",
       " (' LIWC_I', -489520919488.43475),\n",
       " (' LIWC_Ppron', 489520919488.41595),\n",
       " ('Fraction of special characters, such as comma, exclamation mark, etc.',\n",
       "  1385463675.754674),\n",
       " ('Number of words', 1385463675.2928376),\n",
       " ('Fraction of digits', 1385463675.2532852),\n",
       " ('Fraction of uppercase characters', 1385463675.1823332),\n",
       " (' LIWC_Sad', -2.149512746570927),\n",
       " (' LIWC_Affect', -0.9373353195219275),\n",
       " (' LIWC_Ingest', -0.9011679909215979),\n",
       " (' LIWC_Anx', -0.7960659713056635),\n",
       " (' LIWC_You', 0.7606327987891109),\n",
       " (' LIWC_Dissent', -0.7073070316664833),\n",
       " (' LIWC_Nonflu', 0.5209899792019228),\n",
       " (' LIWC_Assent', 0.5038350395424208),\n",
       " (' LIWC_Humans', 0.48537395812788825),\n",
       " ('', -0.48103485988582334),\n",
       " (' LIWC_SheHe', 0.4342862656511324),\n",
       " (' LIWC_Sexual', -0.406480975781543),\n",
       " (' LIWC_Adverbs', 0.38393461363285114),\n",
       " (' LIWC_Certain', 0.3704175535185517),\n",
       " (' LIWC_Anger', 0.36686083341037123),\n",
       " (' LIWC_Tentat', 0.35456651659520944),\n",
       " (' LIWC_Excl', 0.3524694611401998),\n",
       " (' LIWC_Filler', 0.32552044397498925),\n",
       " (' LIWC_CogMech', 0.32051923353945694),\n",
       " (' LIWC_Bio', 0.31470265320091145),\n",
       " (' LIWC_Leisure', 0.30690030524418394),\n",
       " (' LIWC_Pronoun', -0.29596845860654947),\n",
       " (' LIWC_Numbers', 0.29509029947889687),\n",
       " (' LIWC_Inhib', -0.2898455989994457),\n",
       " (' LIWC_Cause', 0.2635047780732258),\n",
       " (' LIWC_Relativ', -0.23016646431880447),\n",
       " (' LIWC_We', 0.22094468839332285),\n",
       " ('Fraction of white spaces', 0.2182003066693012),\n",
       " (' LIWC_Swear', 0.21696431476067457),\n",
       " (' LIWC_Past', 0.21014146782828325),\n",
       " (' LIWC_Family', -0.20649910926730533),\n",
       " (' LIWC_Insight', -0.20431102608000098),\n",
       " (' LIWC_Ipron', -0.201654319711508),\n",
       " (' LIWC_Feel', 0.16444662961329012),\n",
       " (' LIWC_Motion', 0.1621132300616704),\n",
       " (' LIWC_Conj', 0.16158187680746788),\n",
       " (' LIWC_Prep', 0.16068824991762978),\n",
       " (' LIWC_Death', -0.14960382222781535),\n",
       " (' LIWC_Present', 0.149590810983476),\n",
       " (' Compound sentiment calculated by VADER', -0.1476365199077061),\n",
       " (' LIWC_Percept', 0.13854778629592507),\n",
       " (' LIWC_Home', 0.1331364210290532),\n",
       " (' LIWC_Money', -0.12392921404746943),\n",
       " (' LIWC_Verbs', 0.10721162411641626),\n",
       " (' LIWC_Negemo', 0.09419007023564364),\n",
       " (' Number of sentences', 0.0916679769542322),\n",
       " (' LIWC_Hear', 0.08937905791491305),\n",
       " (' LIWC_Achiev', 0.08030315676350995),\n",
       " (' LIWC_Friends', -0.07807373507088947),\n",
       " (' LIWC_They', -0.07795518222247681),\n",
       " (' LIWC_Social', -0.07210886196750814),\n",
       " (' LIWC_Negate', 0.069085969649988),\n",
       " (' LIWC_Incl', -0.0638694775018913),\n",
       " (' LIWC_Posemo', -0.05977462449479611),\n",
       " (' Negative sentiment calculated by VADER', -0.052100786813599254),\n",
       " (' LIWC_Future', 0.04925376360351662),\n",
       " (' LIWC_Time', -0.04659640031805516),\n",
       " (' LIWC_Health', -0.039372170653866764),\n",
       " (' LIWC_Space', -0.03863135938339233),\n",
       " (' LIWC_Work', -0.03665945532633783),\n",
       " (' LIWC_Funct', 0.03389140644602407),\n",
       " (' LIWC_Discrep', -0.029806153725665686),\n",
       " (' LIWC_Quant', 0.02913772506865123),\n",
       " (' LIWC_See', 0.027653367071195874),\n",
       " (' LIWC_AuxVb', 0.011051510695327983),\n",
       " (' LIWC_Relig', -0.00704847790687793),\n",
       " (' Number of unique stopwords', -0.002343548528235514),\n",
       " (' Fraction of stopwords', -0.0014569897918625878),\n",
       " (' LIWC_Body', 0.0011387030999482986),\n",
       " (' Average word length', -0.0002863484030384457),\n",
       " (' Average number of characters per sentence', -0.00024309293222104044),\n",
       " (' Positive sentiment calculated by VADER', -0.00019696500774432418),\n",
       " (' Number of long words (at least 6 characters)', 0.0001588617094370979),\n",
       " ('Number of unique works', 7.331864775609696e-05),\n",
       " (' Number of long sentences (at least 10 words)', -4.590301301558035e-05),\n",
       " ('Fraction of alphabetical characters', 3.252443937520038e-05),\n",
       " ('Number of characters without counting white space',\n",
       "  -3.1641616442708284e-05),\n",
       " (' Average number of words per sentence', 1.2740865654680137e-05),\n",
       " (' Automated readability index', -1.2006426493832494e-05)]"
      ]
     },
     "execution_count": 19,
     "metadata": {},
     "output_type": "execute_result"
    }
   ],
   "source": [
    "[(df[train_columns].columns[x[0]],x[1]) for x in sorted(list(enumerate(reg.coef_)), key=lambda tup: abs(tup[1]),reverse=True)]\n"
   ]
  },
  {
   "cell_type": "code",
   "execution_count": null,
   "metadata": {},
   "outputs": [],
   "source": []
  },
  {
   "cell_type": "code",
   "execution_count": null,
   "metadata": {},
   "outputs": [],
   "source": []
  },
  {
   "cell_type": "code",
   "execution_count": 20,
   "metadata": {},
   "outputs": [
    {
     "data": {
      "text/plain": [
       "array([1.00684714, 0.94913983, 0.92198539, ..., 0.88982725, 0.94226766,\n",
       "       0.89429188])"
      ]
     },
     "execution_count": 20,
     "metadata": {},
     "output_type": "execute_result"
    }
   ],
   "source": [
    "ypreds"
   ]
  },
  {
   "cell_type": "code",
   "execution_count": 21,
   "metadata": {},
   "outputs": [
    {
     "data": {
      "text/plain": [
       "(286561, 91)"
      ]
     },
     "execution_count": 21,
     "metadata": {},
     "output_type": "execute_result"
    }
   ],
   "source": [
    "df.shape"
   ]
  },
  {
   "cell_type": "code",
   "execution_count": 197,
   "metadata": {},
   "outputs": [
    {
     "data": {
      "text/plain": [
       "(57412, 91)"
      ]
     },
     "execution_count": 197,
     "metadata": {},
     "output_type": "execute_result"
    }
   ],
   "source": [
    "top_df = df[(df[\"SOURCE_SUBREDDIT\"].isin(top_sources_names)) | (df[\"TARGET_SUBREDDIT\"].isin(top_targets_names))]\n",
    "top_df.shape"
   ]
  },
  {
   "cell_type": "code",
   "execution_count": 198,
   "metadata": {},
   "outputs": [
    {
     "data": {
      "text/plain": [
       "LogisticRegression(C=1.0, class_weight=None, dual=False, fit_intercept=True,\n",
       "                   intercept_scaling=1, l1_ratio=None, max_iter=1000,\n",
       "                   multi_class='auto', n_jobs=None, penalty='l2',\n",
       "                   random_state=None, solver='lbfgs', tol=0.0001, verbose=0,\n",
       "                   warm_start=False)"
      ]
     },
     "execution_count": 198,
     "metadata": {},
     "output_type": "execute_result"
    }
   ],
   "source": [
    "reg = LogisticRegression(max_iter=1000)\n",
    "X = np.array(df[train_columns])\n",
    "X = normalize(X)\n",
    "y = np.squeeze(np.array(df[predict_column]))\n",
    "y = np.where(y<0, 0,y) # change all -1s to 0s\n",
    "reg.fit(X,y)"
   ]
  },
  {
   "cell_type": "code",
   "execution_count": 199,
   "metadata": {},
   "outputs": [
    {
     "name": "stdout",
     "output_type": "stream",
     "text": [
      "0.9264728975680571\n",
      "0.07352710243194294\n"
     ]
    }
   ],
   "source": [
    "print(reg.score(X,y))\n",
    "ypreds = reg.predict(X)\n",
    "print(mse(y,ypreds))"
   ]
  },
  {
   "cell_type": "code",
   "execution_count": 288,
   "metadata": {},
   "outputs": [
    {
     "data": {
      "text/plain": [
       "LogisticRegression(C=1.0, class_weight=None, dual=False, fit_intercept=True,\n",
       "                   intercept_scaling=1, l1_ratio=None, max_iter=1000,\n",
       "                   multi_class='auto', n_jobs=None, penalty='l2',\n",
       "                   random_state=None, solver='lbfgs', tol=0.0001, verbose=0,\n",
       "                   warm_start=False)"
      ]
     },
     "execution_count": 288,
     "metadata": {},
     "output_type": "execute_result"
    }
   ],
   "source": [
    "top_reg = LogisticRegression(max_iter=1000)\n",
    "top_X = np.array(top_df[train_columns])\n",
    "top_X = normalize(top_X)\n",
    "top_y = np.squeeze(np.array(top_df[predict_column]))\n",
    "top_y = np.where(top_y<0, 0,top_y) # change all -1s to 0s\n",
    "top_reg.fit(top_X,top_y)"
   ]
  },
  {
   "cell_type": "code",
   "execution_count": 201,
   "metadata": {},
   "outputs": [
    {
     "name": "stdout",
     "output_type": "stream",
     "text": [
      "0.856754685431617\n",
      "0.1432453145683829\n"
     ]
    }
   ],
   "source": [
    "print(top_reg.score(top_X,top_y))\n",
    "top_ypreds = top_reg.predict(top_X)\n",
    "print(mse(top_y,top_ypreds))"
   ]
  },
  {
   "cell_type": "code",
   "execution_count": 202,
   "metadata": {},
   "outputs": [],
   "source": [
    "X_train, X_test, y_train, y_test = train_test_split(top_X, top_y, test_size=0.1)"
   ]
  },
  {
   "cell_type": "code",
   "execution_count": 203,
   "metadata": {},
   "outputs": [
    {
     "data": {
      "text/plain": [
       "LogisticRegression(C=1.0, class_weight=None, dual=False, fit_intercept=True,\n",
       "                   intercept_scaling=1, l1_ratio=None, max_iter=100,\n",
       "                   multi_class='auto', n_jobs=None, penalty='l2',\n",
       "                   random_state=None, solver='lbfgs', tol=0.0001, verbose=0,\n",
       "                   warm_start=False)"
      ]
     },
     "execution_count": 203,
     "metadata": {},
     "output_type": "execute_result"
    }
   ],
   "source": [
    "top_reg = LogisticRegression(max_iter=100)\n",
    "top_reg.fit(X_train,y_train)"
   ]
  },
  {
   "cell_type": "code",
   "execution_count": 204,
   "metadata": {},
   "outputs": [
    {
     "name": "stdout",
     "output_type": "stream",
     "text": [
      "Train score 0.8564544222953357\n",
      "Test score 0.8594566353187043\n",
      "0.14054336468129572\n"
     ]
    }
   ],
   "source": [
    "print(\"Train score\", top_reg.score(X_train, y_train)) # comparing results from filtered df with(out) train/test\n",
    "print(\"Test score\", top_reg.score(X_test, y_test)) # comparing results from filtered df with(out) train/test\n",
    "test_ypreds = top_reg.predict(X_test)\n",
    "print(mse(y_test,test_ypreds))"
   ]
  },
  {
   "cell_type": "code",
   "execution_count": 207,
   "metadata": {},
   "outputs": [
    {
     "data": {
      "text/plain": [
       "DecisionTreeClassifier(ccp_alpha=0.0, class_weight=None, criterion='gini',\n",
       "                       max_depth=None, max_features=None, max_leaf_nodes=None,\n",
       "                       min_impurity_decrease=0.0, min_impurity_split=None,\n",
       "                       min_samples_leaf=1, min_samples_split=2,\n",
       "                       min_weight_fraction_leaf=0.0, presort='deprecated',\n",
       "                       random_state=None, splitter='best')"
      ]
     },
     "execution_count": 207,
     "metadata": {},
     "output_type": "execute_result"
    }
   ],
   "source": [
    "tree = DecisionTreeClassifier()\n",
    "X = np.array(df[train_columns])\n",
    "y = np.squeeze(np.array(df[predict_column]))\n",
    "tree.fit(X,y)"
   ]
  },
  {
   "cell_type": "code",
   "execution_count": 208,
   "metadata": {
    "scrolled": true
   },
   "outputs": [
    {
     "name": "stdout",
     "output_type": "stream",
     "text": [
      "0.9970582179710428\n",
      "0.01176712811582874\n"
     ]
    }
   ],
   "source": [
    "print(tree.score(X,y))\n",
    "ypreds = tree.predict(X)\n",
    "print(mse(y,ypreds))"
   ]
  },
  {
   "cell_type": "code",
   "execution_count": 209,
   "metadata": {},
   "outputs": [],
   "source": [
    "top_tree = DecisionTreeClassifier()\n",
    "top_X = np.array(top_df[train_columns])\n",
    "top_y = np.squeeze(np.array(top_df[predict_column]))"
   ]
  },
  {
   "cell_type": "code",
   "execution_count": 210,
   "metadata": {},
   "outputs": [
    {
     "data": {
      "text/plain": [
       "DecisionTreeClassifier(ccp_alpha=0.0, class_weight=None, criterion='gini',\n",
       "                       max_depth=None, max_features=None, max_leaf_nodes=None,\n",
       "                       min_impurity_decrease=0.0, min_impurity_split=None,\n",
       "                       min_samples_leaf=1, min_samples_split=2,\n",
       "                       min_weight_fraction_leaf=0.0, presort='deprecated',\n",
       "                       random_state=None, splitter='best')"
      ]
     },
     "execution_count": 210,
     "metadata": {},
     "output_type": "execute_result"
    }
   ],
   "source": [
    "top_tree.fit(top_X,top_y)"
   ]
  },
  {
   "cell_type": "code",
   "execution_count": 211,
   "metadata": {},
   "outputs": [
    {
     "name": "stdout",
     "output_type": "stream",
     "text": [
      "0.9965512436424441\n",
      "0.013795025430223647\n"
     ]
    }
   ],
   "source": [
    "print(top_tree.score(top_X,top_y))\n",
    "top_ypreds = top_tree.predict(top_X)\n",
    "print(mse(top_y,top_ypreds))"
   ]
  },
  {
   "cell_type": "code",
   "execution_count": 215,
   "metadata": {},
   "outputs": [],
   "source": [
    "X_train, X_test, y_train, y_test = train_test_split(top_X, top_y, test_size=0.1)"
   ]
  },
  {
   "cell_type": "code",
   "execution_count": 216,
   "metadata": {},
   "outputs": [
    {
     "data": {
      "text/plain": [
       "DecisionTreeClassifier(ccp_alpha=0.0, class_weight=None, criterion='gini',\n",
       "                       max_depth=None, max_features=None, max_leaf_nodes=None,\n",
       "                       min_impurity_decrease=0.0, min_impurity_split=None,\n",
       "                       min_samples_leaf=1, min_samples_split=100,\n",
       "                       min_weight_fraction_leaf=0.0, presort='deprecated',\n",
       "                       random_state=10, splitter='best')"
      ]
     },
     "execution_count": 216,
     "metadata": {},
     "output_type": "execute_result"
    }
   ],
   "source": [
    "top_tree = DecisionTreeClassifier(min_samples_split=100,random_state=10)\n",
    "top_tree.fit(X_train,y_train) # trying now with training/testing sets"
   ]
  },
  {
   "cell_type": "code",
   "execution_count": 217,
   "metadata": {},
   "outputs": [
    {
     "name": "stdout",
     "output_type": "stream",
     "text": [
      "Train score 0.8562415328043352\n",
      "Test score 0.8613723441309649\n",
      "0.5545106234761407\n"
     ]
    }
   ],
   "source": [
    "print(\"Train score\", top_reg.score(X_train, y_train)) # comparing results from filtered df with(out) train/test\n",
    "print(\"Test score\", top_reg.score(X_test, y_test)) # comparing results from filtered df with(out) train/test\n",
    "test_ypreds = top_reg.predict(X_test)\n",
    "print(mse(y_test,test_ypreds))"
   ]
  },
  {
   "cell_type": "code",
   "execution_count": null,
   "metadata": {},
   "outputs": [],
   "source": []
  },
  {
   "cell_type": "code",
   "execution_count": 68,
   "metadata": {},
   "outputs": [
    {
     "data": {
      "text/plain": [
       "KNeighborsClassifier(algorithm='auto', leaf_size=30, metric='minkowski',\n",
       "                     metric_params=None, n_jobs=None, n_neighbors=5, p=2,\n",
       "                     weights='uniform')"
      ]
     },
     "execution_count": 68,
     "metadata": {},
     "output_type": "execute_result"
    }
   ],
   "source": [
    "KNN_model = KNeighborsClassifier()\n",
    "KNN_model.fit(top_X,top_y)"
   ]
  },
  {
   "cell_type": "code",
   "execution_count": 69,
   "metadata": {},
   "outputs": [
    {
     "name": "stdout",
     "output_type": "stream",
     "text": [
      "0.873963631296593\n",
      "0.12603636870340695\n"
     ]
    }
   ],
   "source": [
    "print(KNN_model.score(top_X,top_y))\n",
    "knn_ypreds = KNN_model.predict(top_X)\n",
    "print(mse(top_y,knn_ypreds))"
   ]
  },
  {
   "cell_type": "code",
   "execution_count": null,
   "metadata": {},
   "outputs": [],
   "source": []
  },
  {
   "cell_type": "code",
   "execution_count": null,
   "metadata": {},
   "outputs": [],
   "source": [
    "# using subreddit embeddings"
   ]
  },
  {
   "cell_type": "code",
   "execution_count": 130,
   "metadata": {},
   "outputs": [],
   "source": [
    "cols = [\"SOURCE_SUBREDDIT\"] + list(range(0,300)) # making header for embeddings"
   ]
  },
  {
   "cell_type": "code",
   "execution_count": 131,
   "metadata": {},
   "outputs": [],
   "source": [
    "source_embeds = pd.read_csv(\"web-redditEmbeddings-subreddits.csv\",names=cols)"
   ]
  },
  {
   "cell_type": "code",
   "execution_count": 132,
   "metadata": {},
   "outputs": [
    {
     "data": {
      "text/html": [
       "<div>\n",
       "<style scoped>\n",
       "    .dataframe tbody tr th:only-of-type {\n",
       "        vertical-align: middle;\n",
       "    }\n",
       "\n",
       "    .dataframe tbody tr th {\n",
       "        vertical-align: top;\n",
       "    }\n",
       "\n",
       "    .dataframe thead th {\n",
       "        text-align: right;\n",
       "    }\n",
       "</style>\n",
       "<table border=\"1\" class=\"dataframe\">\n",
       "  <thead>\n",
       "    <tr style=\"text-align: right;\">\n",
       "      <th></th>\n",
       "      <th>SOURCE_SUBREDDIT</th>\n",
       "      <th>0</th>\n",
       "      <th>1</th>\n",
       "      <th>2</th>\n",
       "      <th>3</th>\n",
       "      <th>4</th>\n",
       "      <th>5</th>\n",
       "      <th>6</th>\n",
       "      <th>7</th>\n",
       "      <th>8</th>\n",
       "      <th>...</th>\n",
       "      <th>290</th>\n",
       "      <th>291</th>\n",
       "      <th>292</th>\n",
       "      <th>293</th>\n",
       "      <th>294</th>\n",
       "      <th>295</th>\n",
       "      <th>296</th>\n",
       "      <th>297</th>\n",
       "      <th>298</th>\n",
       "      <th>299</th>\n",
       "    </tr>\n",
       "  </thead>\n",
       "  <tbody>\n",
       "    <tr>\n",
       "      <th>0</th>\n",
       "      <td>spiders</td>\n",
       "      <td>0.158972</td>\n",
       "      <td>0.285813</td>\n",
       "      <td>0.226329</td>\n",
       "      <td>-0.183338</td>\n",
       "      <td>-0.163159</td>\n",
       "      <td>-0.188910</td>\n",
       "      <td>0.422705</td>\n",
       "      <td>0.168602</td>\n",
       "      <td>0.178193</td>\n",
       "      <td>...</td>\n",
       "      <td>-0.025041</td>\n",
       "      <td>0.184655</td>\n",
       "      <td>0.111942</td>\n",
       "      <td>-1.125799</td>\n",
       "      <td>0.223129</td>\n",
       "      <td>-0.387323</td>\n",
       "      <td>-0.234882</td>\n",
       "      <td>-0.252297</td>\n",
       "      <td>-0.054315</td>\n",
       "      <td>0.500009</td>\n",
       "    </tr>\n",
       "    <tr>\n",
       "      <th>1</th>\n",
       "      <td>askreddit</td>\n",
       "      <td>-0.499114</td>\n",
       "      <td>0.323983</td>\n",
       "      <td>-0.424809</td>\n",
       "      <td>-0.222705</td>\n",
       "      <td>-0.327201</td>\n",
       "      <td>0.412856</td>\n",
       "      <td>1.040088</td>\n",
       "      <td>0.996697</td>\n",
       "      <td>-1.256240</td>\n",
       "      <td>...</td>\n",
       "      <td>0.072151</td>\n",
       "      <td>0.226658</td>\n",
       "      <td>0.535705</td>\n",
       "      <td>0.039861</td>\n",
       "      <td>-0.027087</td>\n",
       "      <td>-0.239952</td>\n",
       "      <td>0.554510</td>\n",
       "      <td>0.676439</td>\n",
       "      <td>-0.328846</td>\n",
       "      <td>0.941547</td>\n",
       "    </tr>\n",
       "    <tr>\n",
       "      <th>2</th>\n",
       "      <td>globaloffensivetrade</td>\n",
       "      <td>-0.023145</td>\n",
       "      <td>-1.199374</td>\n",
       "      <td>1.661484</td>\n",
       "      <td>-1.025296</td>\n",
       "      <td>1.424670</td>\n",
       "      <td>-1.179507</td>\n",
       "      <td>-1.035703</td>\n",
       "      <td>0.329301</td>\n",
       "      <td>-0.567272</td>\n",
       "      <td>...</td>\n",
       "      <td>2.998430</td>\n",
       "      <td>-1.235703</td>\n",
       "      <td>-0.326850</td>\n",
       "      <td>4.381238</td>\n",
       "      <td>-1.965378</td>\n",
       "      <td>-2.369674</td>\n",
       "      <td>-0.615389</td>\n",
       "      <td>2.010601</td>\n",
       "      <td>-0.919314</td>\n",
       "      <td>-2.149625</td>\n",
       "    </tr>\n",
       "    <tr>\n",
       "      <th>3</th>\n",
       "      <td>fireteams</td>\n",
       "      <td>2.492506</td>\n",
       "      <td>-2.529917</td>\n",
       "      <td>-0.448484</td>\n",
       "      <td>-3.543441</td>\n",
       "      <td>-0.586122</td>\n",
       "      <td>-0.101517</td>\n",
       "      <td>1.837567</td>\n",
       "      <td>-0.215715</td>\n",
       "      <td>-2.460388</td>\n",
       "      <td>...</td>\n",
       "      <td>-1.875214</td>\n",
       "      <td>0.969291</td>\n",
       "      <td>0.497958</td>\n",
       "      <td>2.941132</td>\n",
       "      <td>2.423561</td>\n",
       "      <td>1.315691</td>\n",
       "      <td>-0.959618</td>\n",
       "      <td>0.151845</td>\n",
       "      <td>-0.852492</td>\n",
       "      <td>-0.467526</td>\n",
       "    </tr>\n",
       "    <tr>\n",
       "      <th>4</th>\n",
       "      <td>funny</td>\n",
       "      <td>-0.819370</td>\n",
       "      <td>-0.865261</td>\n",
       "      <td>0.301753</td>\n",
       "      <td>0.018787</td>\n",
       "      <td>0.201029</td>\n",
       "      <td>0.070462</td>\n",
       "      <td>0.903895</td>\n",
       "      <td>1.038460</td>\n",
       "      <td>-0.306950</td>\n",
       "      <td>...</td>\n",
       "      <td>1.364194</td>\n",
       "      <td>0.830233</td>\n",
       "      <td>-0.137822</td>\n",
       "      <td>-2.204667</td>\n",
       "      <td>-0.162008</td>\n",
       "      <td>0.390291</td>\n",
       "      <td>-0.556404</td>\n",
       "      <td>0.322684</td>\n",
       "      <td>0.641634</td>\n",
       "      <td>1.320716</td>\n",
       "    </tr>\n",
       "  </tbody>\n",
       "</table>\n",
       "<p>5 rows × 301 columns</p>\n",
       "</div>"
      ],
      "text/plain": [
       "       SOURCE_SUBREDDIT         0         1         2         3         4  \\\n",
       "0               spiders  0.158972  0.285813  0.226329 -0.183338 -0.163159   \n",
       "1             askreddit -0.499114  0.323983 -0.424809 -0.222705 -0.327201   \n",
       "2  globaloffensivetrade -0.023145 -1.199374  1.661484 -1.025296  1.424670   \n",
       "3             fireteams  2.492506 -2.529917 -0.448484 -3.543441 -0.586122   \n",
       "4                 funny -0.819370 -0.865261  0.301753  0.018787  0.201029   \n",
       "\n",
       "          5         6         7         8  ...       290       291       292  \\\n",
       "0 -0.188910  0.422705  0.168602  0.178193  ... -0.025041  0.184655  0.111942   \n",
       "1  0.412856  1.040088  0.996697 -1.256240  ...  0.072151  0.226658  0.535705   \n",
       "2 -1.179507 -1.035703  0.329301 -0.567272  ...  2.998430 -1.235703 -0.326850   \n",
       "3 -0.101517  1.837567 -0.215715 -2.460388  ... -1.875214  0.969291  0.497958   \n",
       "4  0.070462  0.903895  1.038460 -0.306950  ...  1.364194  0.830233 -0.137822   \n",
       "\n",
       "        293       294       295       296       297       298       299  \n",
       "0 -1.125799  0.223129 -0.387323 -0.234882 -0.252297 -0.054315  0.500009  \n",
       "1  0.039861 -0.027087 -0.239952  0.554510  0.676439 -0.328846  0.941547  \n",
       "2  4.381238 -1.965378 -2.369674 -0.615389  2.010601 -0.919314 -2.149625  \n",
       "3  2.941132  2.423561  1.315691 -0.959618  0.151845 -0.852492 -0.467526  \n",
       "4 -2.204667 -0.162008  0.390291 -0.556404  0.322684  0.641634  1.320716  \n",
       "\n",
       "[5 rows x 301 columns]"
      ]
     },
     "execution_count": 132,
     "metadata": {},
     "output_type": "execute_result"
    }
   ],
   "source": [
    "source_embeds.head()"
   ]
  },
  {
   "cell_type": "code",
   "execution_count": 139,
   "metadata": {},
   "outputs": [
    {
     "data": {
      "text/html": [
       "<div>\n",
       "<style scoped>\n",
       "    .dataframe tbody tr th:only-of-type {\n",
       "        vertical-align: middle;\n",
       "    }\n",
       "\n",
       "    .dataframe tbody tr th {\n",
       "        vertical-align: top;\n",
       "    }\n",
       "\n",
       "    .dataframe thead th {\n",
       "        text-align: right;\n",
       "    }\n",
       "</style>\n",
       "<table border=\"1\" class=\"dataframe\">\n",
       "  <thead>\n",
       "    <tr style=\"text-align: right;\">\n",
       "      <th></th>\n",
       "      <th>TARGET_SUBREDDIT</th>\n",
       "      <th>0</th>\n",
       "      <th>1</th>\n",
       "      <th>2</th>\n",
       "      <th>3</th>\n",
       "      <th>4</th>\n",
       "      <th>5</th>\n",
       "      <th>6</th>\n",
       "      <th>7</th>\n",
       "      <th>8</th>\n",
       "      <th>...</th>\n",
       "      <th>290</th>\n",
       "      <th>291</th>\n",
       "      <th>292</th>\n",
       "      <th>293</th>\n",
       "      <th>294</th>\n",
       "      <th>295</th>\n",
       "      <th>296</th>\n",
       "      <th>297</th>\n",
       "      <th>298</th>\n",
       "      <th>299</th>\n",
       "    </tr>\n",
       "  </thead>\n",
       "  <tbody>\n",
       "    <tr>\n",
       "      <th>0</th>\n",
       "      <td>spiders</td>\n",
       "      <td>0.158972</td>\n",
       "      <td>0.285813</td>\n",
       "      <td>0.226329</td>\n",
       "      <td>-0.183338</td>\n",
       "      <td>-0.163159</td>\n",
       "      <td>-0.188910</td>\n",
       "      <td>0.422705</td>\n",
       "      <td>0.168602</td>\n",
       "      <td>0.178193</td>\n",
       "      <td>...</td>\n",
       "      <td>-0.025041</td>\n",
       "      <td>0.184655</td>\n",
       "      <td>0.111942</td>\n",
       "      <td>-1.125799</td>\n",
       "      <td>0.223129</td>\n",
       "      <td>-0.387323</td>\n",
       "      <td>-0.234882</td>\n",
       "      <td>-0.252297</td>\n",
       "      <td>-0.054315</td>\n",
       "      <td>0.500009</td>\n",
       "    </tr>\n",
       "    <tr>\n",
       "      <th>1</th>\n",
       "      <td>askreddit</td>\n",
       "      <td>-0.499114</td>\n",
       "      <td>0.323983</td>\n",
       "      <td>-0.424809</td>\n",
       "      <td>-0.222705</td>\n",
       "      <td>-0.327201</td>\n",
       "      <td>0.412856</td>\n",
       "      <td>1.040088</td>\n",
       "      <td>0.996697</td>\n",
       "      <td>-1.256240</td>\n",
       "      <td>...</td>\n",
       "      <td>0.072151</td>\n",
       "      <td>0.226658</td>\n",
       "      <td>0.535705</td>\n",
       "      <td>0.039861</td>\n",
       "      <td>-0.027087</td>\n",
       "      <td>-0.239952</td>\n",
       "      <td>0.554510</td>\n",
       "      <td>0.676439</td>\n",
       "      <td>-0.328846</td>\n",
       "      <td>0.941547</td>\n",
       "    </tr>\n",
       "    <tr>\n",
       "      <th>2</th>\n",
       "      <td>globaloffensivetrade</td>\n",
       "      <td>-0.023145</td>\n",
       "      <td>-1.199374</td>\n",
       "      <td>1.661484</td>\n",
       "      <td>-1.025296</td>\n",
       "      <td>1.424670</td>\n",
       "      <td>-1.179507</td>\n",
       "      <td>-1.035703</td>\n",
       "      <td>0.329301</td>\n",
       "      <td>-0.567272</td>\n",
       "      <td>...</td>\n",
       "      <td>2.998430</td>\n",
       "      <td>-1.235703</td>\n",
       "      <td>-0.326850</td>\n",
       "      <td>4.381238</td>\n",
       "      <td>-1.965378</td>\n",
       "      <td>-2.369674</td>\n",
       "      <td>-0.615389</td>\n",
       "      <td>2.010601</td>\n",
       "      <td>-0.919314</td>\n",
       "      <td>-2.149625</td>\n",
       "    </tr>\n",
       "    <tr>\n",
       "      <th>3</th>\n",
       "      <td>fireteams</td>\n",
       "      <td>2.492506</td>\n",
       "      <td>-2.529917</td>\n",
       "      <td>-0.448484</td>\n",
       "      <td>-3.543441</td>\n",
       "      <td>-0.586122</td>\n",
       "      <td>-0.101517</td>\n",
       "      <td>1.837567</td>\n",
       "      <td>-0.215715</td>\n",
       "      <td>-2.460388</td>\n",
       "      <td>...</td>\n",
       "      <td>-1.875214</td>\n",
       "      <td>0.969291</td>\n",
       "      <td>0.497958</td>\n",
       "      <td>2.941132</td>\n",
       "      <td>2.423561</td>\n",
       "      <td>1.315691</td>\n",
       "      <td>-0.959618</td>\n",
       "      <td>0.151845</td>\n",
       "      <td>-0.852492</td>\n",
       "      <td>-0.467526</td>\n",
       "    </tr>\n",
       "    <tr>\n",
       "      <th>4</th>\n",
       "      <td>funny</td>\n",
       "      <td>-0.819370</td>\n",
       "      <td>-0.865261</td>\n",
       "      <td>0.301753</td>\n",
       "      <td>0.018787</td>\n",
       "      <td>0.201029</td>\n",
       "      <td>0.070462</td>\n",
       "      <td>0.903895</td>\n",
       "      <td>1.038460</td>\n",
       "      <td>-0.306950</td>\n",
       "      <td>...</td>\n",
       "      <td>1.364194</td>\n",
       "      <td>0.830233</td>\n",
       "      <td>-0.137822</td>\n",
       "      <td>-2.204667</td>\n",
       "      <td>-0.162008</td>\n",
       "      <td>0.390291</td>\n",
       "      <td>-0.556404</td>\n",
       "      <td>0.322684</td>\n",
       "      <td>0.641634</td>\n",
       "      <td>1.320716</td>\n",
       "    </tr>\n",
       "  </tbody>\n",
       "</table>\n",
       "<p>5 rows × 301 columns</p>\n",
       "</div>"
      ],
      "text/plain": [
       "       TARGET_SUBREDDIT         0         1         2         3         4  \\\n",
       "0               spiders  0.158972  0.285813  0.226329 -0.183338 -0.163159   \n",
       "1             askreddit -0.499114  0.323983 -0.424809 -0.222705 -0.327201   \n",
       "2  globaloffensivetrade -0.023145 -1.199374  1.661484 -1.025296  1.424670   \n",
       "3             fireteams  2.492506 -2.529917 -0.448484 -3.543441 -0.586122   \n",
       "4                 funny -0.819370 -0.865261  0.301753  0.018787  0.201029   \n",
       "\n",
       "          5         6         7         8  ...       290       291       292  \\\n",
       "0 -0.188910  0.422705  0.168602  0.178193  ... -0.025041  0.184655  0.111942   \n",
       "1  0.412856  1.040088  0.996697 -1.256240  ...  0.072151  0.226658  0.535705   \n",
       "2 -1.179507 -1.035703  0.329301 -0.567272  ...  2.998430 -1.235703 -0.326850   \n",
       "3 -0.101517  1.837567 -0.215715 -2.460388  ... -1.875214  0.969291  0.497958   \n",
       "4  0.070462  0.903895  1.038460 -0.306950  ...  1.364194  0.830233 -0.137822   \n",
       "\n",
       "        293       294       295       296       297       298       299  \n",
       "0 -1.125799  0.223129 -0.387323 -0.234882 -0.252297 -0.054315  0.500009  \n",
       "1  0.039861 -0.027087 -0.239952  0.554510  0.676439 -0.328846  0.941547  \n",
       "2  4.381238 -1.965378 -2.369674 -0.615389  2.010601 -0.919314 -2.149625  \n",
       "3  2.941132  2.423561  1.315691 -0.959618  0.151845 -0.852492 -0.467526  \n",
       "4 -2.204667 -0.162008  0.390291 -0.556404  0.322684  0.641634  1.320716  \n",
       "\n",
       "[5 rows x 301 columns]"
      ]
     },
     "execution_count": 139,
     "metadata": {},
     "output_type": "execute_result"
    }
   ],
   "source": [
    "target_embeds = source_embeds.rename(columns = {\"SOURCE_SUBREDDIT\":\"TARGET_SUBREDDIT\"})\n",
    "target_embeds.head()"
   ]
  },
  {
   "cell_type": "code",
   "execution_count": 221,
   "metadata": {},
   "outputs": [
    {
     "name": "stdout",
     "output_type": "stream",
     "text": [
      "source set: 6131\n",
      "target set: 3451\n",
      "embeds set: 51278\n",
      "embeds and source intersection: 4741\n",
      "embeds and target intersection: 3216\n"
     ]
    }
   ],
   "source": [
    "source_set = set(top_df[\"SOURCE_SUBREDDIT\"].values)\n",
    "print(\"source set:\",len(source_set))\n",
    "\n",
    "target_set = set(top_df[\"TARGET_SUBREDDIT\"].values)\n",
    "print(\"target set:\",len(target_set))\n",
    "\n",
    "embeds_set = set(source_embeds[\"SOURCE_SUBREDDIT\"].values)\n",
    "print(\"embeds set:\",len(embeds_set))\n",
    "\n",
    "source_inter = embeds_set.intersection(source_set)\n",
    "print(\"embeds and source intersection:\",len(source_inter))\n",
    "\n",
    "target_inter = embeds_set.intersection(target_set)\n",
    "print(\"embeds and target intersection:\",len(target_inter))"
   ]
  },
  {
   "cell_type": "code",
   "execution_count": 222,
   "metadata": {},
   "outputs": [
    {
     "name": "stdout",
     "output_type": "stream",
     "text": [
      "(54899, 391)\n",
      "(57104, 391)\n"
     ]
    }
   ],
   "source": [
    "# creating two dfs: one using embeddings for source subreddits and one using embeddings for target subreddits\n",
    "source_merge = pd.merge(top_df, source_embeds, on=[\"SOURCE_SUBREDDIT\"])\n",
    "target_merge = pd.merge(top_df, target_embeds, on=[\"TARGET_SUBREDDIT\"])\n",
    "print(source_merge.shape)\n",
    "print(target_merge.shape)"
   ]
  },
  {
   "cell_type": "code",
   "execution_count": 223,
   "metadata": {},
   "outputs": [
    {
     "data": {
      "text/plain": [
       "(54591, 691)"
      ]
     },
     "execution_count": 223,
     "metadata": {},
     "output_type": "execute_result"
    }
   ],
   "source": [
    "# make df with embeddings for both source and target subreddits\n",
    "all_merge = pd.merge(source_merge, target_embeds, on=[\"TARGET_SUBREDDIT\"])\n",
    "all_merge.shape"
   ]
  },
  {
   "cell_type": "code",
   "execution_count": null,
   "metadata": {},
   "outputs": [],
   "source": []
  },
  {
   "cell_type": "code",
   "execution_count": 224,
   "metadata": {},
   "outputs": [],
   "source": [
    "# include new columns from embeddings in list of training columns\n",
    "embed_train_cols = [col for col in source_merge.columns if col not in non_train_columns]"
   ]
  },
  {
   "cell_type": "code",
   "execution_count": 225,
   "metadata": {},
   "outputs": [],
   "source": [
    "# create train/test for df with embeddings for source subreddits. differentiating from top_X/y used earlier\n",
    "source_X = np.array(source_merge[embed_train_cols])\n",
    "source_X = normalize(source_X)\n",
    "source_y = np.squeeze(np.array(source_merge[predict_column]))\n",
    "source_y = np.where(source_y<0, 0,source_y) # change all -1s to 0s\n",
    "\n",
    "X_train_s, X_test_s, y_train_s, y_test_s = train_test_split(source_X, source_y, test_size=0.1)"
   ]
  },
  {
   "cell_type": "code",
   "execution_count": 228,
   "metadata": {},
   "outputs": [
    {
     "data": {
      "text/plain": [
       "LogisticRegression(C=1.0, class_weight=None, dual=False, fit_intercept=True,\n",
       "                   intercept_scaling=1, l1_ratio=None, max_iter=100,\n",
       "                   multi_class='auto', n_jobs=None, penalty='l2',\n",
       "                   random_state=None, solver='lbfgs', tol=0.0001, verbose=0,\n",
       "                   warm_start=False)"
      ]
     },
     "execution_count": 228,
     "metadata": {},
     "output_type": "execute_result"
    }
   ],
   "source": [
    "source_reg = LogisticRegression(max_iter=100)\n",
    "source_reg.fit(X_train_s,y_train_s)"
   ]
  },
  {
   "cell_type": "code",
   "execution_count": 230,
   "metadata": {},
   "outputs": [
    {
     "name": "stdout",
     "output_type": "stream",
     "text": [
      "Test score 0.8581056466302368\n",
      "0.1418943533697632\n"
     ]
    }
   ],
   "source": [
    "print(\"Test score\", source_reg.score(X_test_s,y_test_s))\n",
    "test_ypreds_s = source_reg.predict(X_test_s)\n",
    "print(mse(y_test_s,test_ypreds_s))"
   ]
  },
  {
   "cell_type": "code",
   "execution_count": null,
   "metadata": {},
   "outputs": [],
   "source": []
  },
  {
   "cell_type": "code",
   "execution_count": 233,
   "metadata": {},
   "outputs": [],
   "source": [
    "# create train/test for df with embeddings for target subreddits\n",
    "target_X = np.array(target_merge[embed_train_cols])\n",
    "target_X = normalize(target_X)\n",
    "target_y = np.squeeze(np.array(target_merge[predict_column]))\n",
    "target_y = np.where(target_y<0, 0, target_y) # change all -1s to 0s\n",
    "\n",
    "X_train_t, X_test_t, y_train_t, y_test_t = train_test_split(target_X, target_y, test_size=0.1)"
   ]
  },
  {
   "cell_type": "code",
   "execution_count": 234,
   "metadata": {},
   "outputs": [
    {
     "data": {
      "text/plain": [
       "LogisticRegression(C=1.0, class_weight=None, dual=False, fit_intercept=True,\n",
       "                   intercept_scaling=1, l1_ratio=None, max_iter=100,\n",
       "                   multi_class='auto', n_jobs=None, penalty='l2',\n",
       "                   random_state=None, solver='lbfgs', tol=0.0001, verbose=0,\n",
       "                   warm_start=False)"
      ]
     },
     "execution_count": 234,
     "metadata": {},
     "output_type": "execute_result"
    }
   ],
   "source": [
    "target_reg = LogisticRegression(max_iter=100)\n",
    "target_reg.fit(X_train_t,y_train_t)"
   ]
  },
  {
   "cell_type": "code",
   "execution_count": 235,
   "metadata": {
    "scrolled": true
   },
   "outputs": [
    {
     "name": "stdout",
     "output_type": "stream",
     "text": [
      "Test score 0.8525652250043775\n",
      "0.1474347749956225\n"
     ]
    }
   ],
   "source": [
    "print(\"Test score\", target_reg.score(X_test_t,y_test_t))\n",
    "test_ypreds_t = target_reg.predict(X_test_t)\n",
    "print(mse(y_test_t,test_ypreds_t))"
   ]
  },
  {
   "cell_type": "code",
   "execution_count": null,
   "metadata": {},
   "outputs": [],
   "source": []
  },
  {
   "cell_type": "code",
   "execution_count": 237,
   "metadata": {},
   "outputs": [],
   "source": [
    "# update training columns to include double the number of embedding columns\n",
    "all_embed_train_cols = [col for col in all_merge.columns if col not in non_train_columns]"
   ]
  },
  {
   "cell_type": "code",
   "execution_count": 243,
   "metadata": {},
   "outputs": [],
   "source": [
    "# create train/test for df with embeddings for both source and target subreddits\n",
    "all_embeds_X = np.array(all_merge[all_embed_train_cols])\n",
    "all_embeds_X = normalize(all_embeds_X)\n",
    "all_embeds_y = np.squeeze(np.array(all_merge[predict_column]))\n",
    "all_embeds_y = np.where(all_embeds_y<0, 0, all_embeds_y) # change all -1s to 0s\n",
    "\n",
    "X_train_a, X_test_a, y_train_a, y_test_a = train_test_split(all_embeds_X, all_embeds_y, test_size=0.1)"
   ]
  },
  {
   "cell_type": "code",
   "execution_count": 244,
   "metadata": {},
   "outputs": [
    {
     "data": {
      "text/plain": [
       "LogisticRegression(C=1.0, class_weight=None, dual=False, fit_intercept=True,\n",
       "                   intercept_scaling=1, l1_ratio=None, max_iter=100,\n",
       "                   multi_class='auto', n_jobs=None, penalty='l2',\n",
       "                   random_state=None, solver='lbfgs', tol=0.0001, verbose=0,\n",
       "                   warm_start=False)"
      ]
     },
     "execution_count": 244,
     "metadata": {},
     "output_type": "execute_result"
    }
   ],
   "source": [
    "all_reg = LogisticRegression(max_iter=100)\n",
    "all_reg.fit(X_train_a,y_train_a)"
   ]
  },
  {
   "cell_type": "code",
   "execution_count": 245,
   "metadata": {},
   "outputs": [
    {
     "name": "stdout",
     "output_type": "stream",
     "text": [
      "Test score 0.8503663003663003\n",
      "0.14963369963369963\n"
     ]
    }
   ],
   "source": [
    "print(\"Test score\", all_reg.score(X_test_a,y_test_a))\n",
    "test_ypreds_a = all_reg.predict(X_test_a)\n",
    "print(mse(y_test_a,test_ypreds_a))"
   ]
  },
  {
   "cell_type": "code",
   "execution_count": null,
   "metadata": {},
   "outputs": [],
   "source": []
  },
  {
   "cell_type": "code",
   "execution_count": 252,
   "metadata": {},
   "outputs": [],
   "source": [
    "# Decision Trees for Dataframes with Embeddings\n",
    "\n",
    "# reassign train/test for df with embeddings for source subreddits. differentiating from top_X/y used earlier\n",
    "source_X = np.array(source_merge[embed_train_cols])\n",
    "source_y = np.squeeze(np.array(source_merge[predict_column]))\n",
    "\n",
    "X_train_s, X_test_s, y_train_s, y_test_s = train_test_split(source_X, source_y, test_size=0.1)"
   ]
  },
  {
   "cell_type": "code",
   "execution_count": 253,
   "metadata": {},
   "outputs": [
    {
     "data": {
      "text/plain": [
       "DecisionTreeClassifier(ccp_alpha=0.0, class_weight=None, criterion='gini',\n",
       "                       max_depth=None, max_features=None, max_leaf_nodes=None,\n",
       "                       min_impurity_decrease=0.0, min_impurity_split=None,\n",
       "                       min_samples_leaf=1, min_samples_split=100,\n",
       "                       min_weight_fraction_leaf=0.0, presort='deprecated',\n",
       "                       random_state=10, splitter='best')"
      ]
     },
     "execution_count": 253,
     "metadata": {},
     "output_type": "execute_result"
    }
   ],
   "source": [
    "source_tree = DecisionTreeClassifier(min_samples_split=100,random_state=10)\n",
    "source_tree.fit(X_train_s,y_train_s)"
   ]
  },
  {
   "cell_type": "code",
   "execution_count": 259,
   "metadata": {},
   "outputs": [
    {
     "name": "stdout",
     "output_type": "stream",
     "text": [
      "Train score 0.8852031006496792\n",
      "Test score 0.8313296903460838\n",
      "0.6746812386156649\n"
     ]
    }
   ],
   "source": [
    "print(\"Train score\", source_tree.score(X_train_s, y_train_s)) # comparing results from filtered df with(out) train/test\n",
    "print(\"Test score\", source_tree.score(X_test_s, y_test_s)) # comparing results from filtered df with(out) train/test\n",
    "test_ypreds_s = source_tree.predict(X_test_s)\n",
    "print(mse(y_test_s,test_ypreds_s))"
   ]
  },
  {
   "cell_type": "code",
   "execution_count": null,
   "metadata": {},
   "outputs": [],
   "source": []
  },
  {
   "cell_type": "code",
   "execution_count": null,
   "metadata": {},
   "outputs": [],
   "source": []
  },
  {
   "cell_type": "code",
   "execution_count": 260,
   "metadata": {},
   "outputs": [],
   "source": [
    "# reassign train/test for df with embeddings for target subreddits\n",
    "target_X = np.array(target_merge[embed_train_cols])\n",
    "target_y = np.squeeze(np.array(target_merge[predict_column]))\n",
    "\n",
    "X_train_t, X_test_t, y_train_t, y_test_t = train_test_split(target_X, target_y, test_size=0.1)"
   ]
  },
  {
   "cell_type": "code",
   "execution_count": 261,
   "metadata": {},
   "outputs": [
    {
     "data": {
      "text/plain": [
       "DecisionTreeClassifier(ccp_alpha=0.0, class_weight=None, criterion='gini',\n",
       "                       max_depth=None, max_features=None, max_leaf_nodes=None,\n",
       "                       min_impurity_decrease=0.0, min_impurity_split=None,\n",
       "                       min_samples_leaf=1, min_samples_split=100,\n",
       "                       min_weight_fraction_leaf=0.0, presort='deprecated',\n",
       "                       random_state=10, splitter='best')"
      ]
     },
     "execution_count": 261,
     "metadata": {},
     "output_type": "execute_result"
    }
   ],
   "source": [
    "target_tree = DecisionTreeClassifier(min_samples_split=100,random_state=10)\n",
    "target_tree.fit(X_train_t,y_train_t)"
   ]
  },
  {
   "cell_type": "code",
   "execution_count": 265,
   "metadata": {},
   "outputs": [
    {
     "name": "stdout",
     "output_type": "stream",
     "text": [
      "Train score 0.8866771739341933\n",
      "Test score 0.8170197863771669\n",
      "0.7319208544913325\n"
     ]
    }
   ],
   "source": [
    "print(\"Train score\", target_tree.score(X_train_t, y_train_t)) # comparing results from filtered df with(out) train/test\n",
    "print(\"Test score\", target_tree.score(X_test_t, y_test_t)) # comparing results from filtered df with(out) train/test\n",
    "test_ypreds_t = target_tree.predict(X_test_t)\n",
    "print(mse(y_test_t,test_ypreds_t))"
   ]
  },
  {
   "cell_type": "code",
   "execution_count": null,
   "metadata": {},
   "outputs": [],
   "source": []
  },
  {
   "cell_type": "code",
   "execution_count": 263,
   "metadata": {},
   "outputs": [],
   "source": [
    "# reassign train/test for df with embeddings for both source and target subreddits\n",
    "all_embeds_X = np.array(all_merge[all_embed_train_cols])\n",
    "all_embeds_y = np.squeeze(np.array(all_merge[predict_column]))\n",
    "\n",
    "X_train_a, X_test_a, y_train_a, y_test_a = train_test_split(all_embeds_X, all_embeds_y, test_size=0.1)"
   ]
  },
  {
   "cell_type": "code",
   "execution_count": 264,
   "metadata": {},
   "outputs": [
    {
     "data": {
      "text/plain": [
       "DecisionTreeClassifier(ccp_alpha=0.0, class_weight=None, criterion='gini',\n",
       "                       max_depth=None, max_features=None, max_leaf_nodes=None,\n",
       "                       min_impurity_decrease=0.0, min_impurity_split=None,\n",
       "                       min_samples_leaf=1, min_samples_split=100,\n",
       "                       min_weight_fraction_leaf=0.0, presort='deprecated',\n",
       "                       random_state=10, splitter='best')"
      ]
     },
     "execution_count": 264,
     "metadata": {},
     "output_type": "execute_result"
    }
   ],
   "source": [
    "all_tree = DecisionTreeClassifier(min_samples_split=100,random_state=10)\n",
    "all_tree.fit(X_train_a,y_train_a)"
   ]
  },
  {
   "cell_type": "code",
   "execution_count": 266,
   "metadata": {},
   "outputs": [
    {
     "name": "stdout",
     "output_type": "stream",
     "text": [
      "Train score 0.8904561274958783\n",
      "Test score 0.8106227106227106\n",
      "0.7575091575091575\n"
     ]
    }
   ],
   "source": [
    "print(\"Train score\", all_tree.score(X_train_a, y_train_a)) # comparing results from filtered df with(out) train/test\n",
    "print(\"Test score\", all_tree.score(X_test_a, y_test_a)) # comparing results from filtered df with(out) train/test\n",
    "test_ypreds_a = all_tree.predict(X_test_a)\n",
    "print(mse(y_test_a,test_ypreds_a))"
   ]
  },
  {
   "cell_type": "code",
   "execution_count": null,
   "metadata": {},
   "outputs": [],
   "source": []
  },
  {
   "cell_type": "code",
   "execution_count": null,
   "metadata": {},
   "outputs": [],
   "source": [
    "# attempt at one_hot section with filtered df for top source and/or target subreddits"
   ]
  },
  {
   "cell_type": "code",
   "execution_count": 37,
   "metadata": {},
   "outputs": [],
   "source": [
    "one_hot_columns = [\"SOURCE_SUBREDDIT\", \"TARGET_SUBREDDIT\"]"
   ]
  },
  {
   "cell_type": "code",
   "execution_count": 49,
   "metadata": {},
   "outputs": [],
   "source": [
    "source_enc = OneHotEncoder()\n",
    "source = source_enc.fit_transform(np.array(df[\"SOURCE_SUBREDDIT\"]).reshape(-1,1)).toarray()\n",
    "sourceOneHot = pd.DataFrame(source, \n",
    "                            columns = [\"SOURCE_SUBREDDIT_\"+str(i) for i in range(source.shape[1])]\n",
    "                           )\n",
    "\n",
    "target_enc = OneHotEncoder()\n",
    "target = target_enc.fit_transform(np.array(df[\"TARGET_SUBREDDIT\"]).reshape(-1,1)).toarray()\n",
    "targetOneHot = pd.DataFrame(target, \n",
    "                            columns = [\"TARGET_SUBREDDIT\"+str(i) for i in range(target.shape[1])]\n",
    "                           )"
   ]
  },
  {
   "cell_type": "code",
   "execution_count": null,
   "metadata": {},
   "outputs": [],
   "source": [
    "d2 = target.shape[1]+source.shape[1]+df.shape[1]\n",
    "bigDf = np.empty((target.shape[0], d2))"
   ]
  },
  {
   "cell_type": "code",
   "execution_count": 48,
   "metadata": {},
   "outputs": [
    {
     "ename": "NameError",
     "evalue": "name 'target' is not defined",
     "output_type": "error",
     "traceback": [
      "\u001b[0;31m---------------------------------------------------------------------------\u001b[0m",
      "\u001b[0;31mNameError\u001b[0m                                 Traceback (most recent call last)",
      "\u001b[0;32m<ipython-input-48-d5a93703cc22>\u001b[0m in \u001b[0;36m<module>\u001b[0;34m()\u001b[0m\n\u001b[0;32m----> 1\u001b[0;31m \u001b[0mtarget\u001b[0m\u001b[0;34m\u001b[0m\u001b[0m\n\u001b[0m",
      "\u001b[0;31mNameError\u001b[0m: name 'target' is not defined"
     ]
    }
   ],
   "source": [
    "target"
   ]
  },
  {
   "cell_type": "code",
   "execution_count": null,
   "metadata": {},
   "outputs": [],
   "source": [
    "# np.concatenate([df, source, target], axis=1)\n",
    "target_shape = target.shape\n",
    "source_shape = source.shape\n",
    "\n",
    "bigDf[:,:target_shape[1]] = target\n",
    "del target\n",
    "bigDf[:,target_shape[1]:target_shape[1]+source_shape[1]] = source\n",
    "del source\n",
    "bigDf[:,target_shape[1]+source_shape[1]:] = df\n"
   ]
  },
  {
   "cell_type": "code",
   "execution_count": null,
   "metadata": {},
   "outputs": [],
   "source": []
  },
  {
   "cell_type": "code",
   "execution_count": 41,
   "metadata": {},
   "outputs": [
    {
     "data": {
      "text/plain": [
       "(286561, 20606)"
      ]
     },
     "execution_count": 41,
     "metadata": {},
     "output_type": "execute_result"
    }
   ],
   "source": [
    "target.shape"
   ]
  },
  {
   "cell_type": "code",
   "execution_count": 20,
   "metadata": {},
   "outputs": [],
   "source": [
    "df_columns = df.columns"
   ]
  },
  {
   "cell_type": "code",
   "execution_count": 25,
   "metadata": {},
   "outputs": [],
   "source": [
    "dfNp = df.to_numpy(copy=True)"
   ]
  },
  {
   "cell_type": "code",
   "execution_count": 23,
   "metadata": {},
   "outputs": [
    {
     "data": {
      "text/plain": [
       "(286561, 27863)"
      ]
     },
     "execution_count": 23,
     "metadata": {},
     "output_type": "execute_result"
    }
   ],
   "source": [
    "source.shape"
   ]
  },
  {
   "cell_type": "code",
   "execution_count": 22,
   "metadata": {},
   "outputs": [
    {
     "data": {
      "text/plain": [
       "(286561, 91)"
      ]
     },
     "execution_count": 22,
     "metadata": {},
     "output_type": "execute_result"
    }
   ],
   "source": [
    "dfNp.shape"
   ]
  },
  {
   "cell_type": "code",
   "execution_count": null,
   "metadata": {},
   "outputs": [],
   "source": [
    "df"
   ]
  },
  {
   "cell_type": "code",
   "execution_count": null,
   "metadata": {},
   "outputs": [],
   "source": [
    "df = pd.concat([df, sourceOneHot], axis=1)"
   ]
  },
  {
   "cell_type": "code",
   "execution_count": null,
   "metadata": {},
   "outputs": [],
   "source": [
    "df.head()"
   ]
  },
  {
   "cell_type": "code",
   "execution_count": null,
   "metadata": {},
   "outputs": [],
   "source": []
  },
  {
   "cell_type": "markdown",
   "metadata": {},
   "source": [
    "# Keras"
   ]
  },
  {
   "cell_type": "code",
   "execution_count": 291,
   "metadata": {},
   "outputs": [],
   "source": [
    "import keras\n",
    "from keras.models import Sequential\n",
    "from keras.layers import Dense\n",
    "from keras.layers import BatchNormalization\n",
    "\n",
    "model = Sequential()"
   ]
  },
  {
   "cell_type": "code",
   "execution_count": 292,
   "metadata": {},
   "outputs": [
    {
     "data": {
      "text/html": [
       "<div>\n",
       "<style scoped>\n",
       "    .dataframe tbody tr th:only-of-type {\n",
       "        vertical-align: middle;\n",
       "    }\n",
       "\n",
       "    .dataframe tbody tr th {\n",
       "        vertical-align: top;\n",
       "    }\n",
       "\n",
       "    .dataframe thead th {\n",
       "        text-align: right;\n",
       "    }\n",
       "</style>\n",
       "<table border=\"1\" class=\"dataframe\">\n",
       "  <thead>\n",
       "    <tr style=\"text-align: right;\">\n",
       "      <th></th>\n",
       "      <th>SOURCE_SUBREDDIT</th>\n",
       "      <th>TARGET_SUBREDDIT</th>\n",
       "      <th>POST_ID</th>\n",
       "      <th>TIMESTAMP</th>\n",
       "      <th>LINK_SENTIMENT</th>\n",
       "      <th>Number of characters without counting white space</th>\n",
       "      <th>Fraction of alphabetical characters</th>\n",
       "      <th>Fraction of digits</th>\n",
       "      <th>Fraction of uppercase characters</th>\n",
       "      <th>Fraction of white spaces</th>\n",
       "      <th>...</th>\n",
       "      <th>LIWC_Leisure</th>\n",
       "      <th>LIWC_Home</th>\n",
       "      <th>LIWC_Money</th>\n",
       "      <th>LIWC_Relig</th>\n",
       "      <th>LIWC_Death</th>\n",
       "      <th>LIWC_Assent</th>\n",
       "      <th>LIWC_Dissent</th>\n",
       "      <th>LIWC_Nonflu</th>\n",
       "      <th>LIWC_Filler</th>\n",
       "      <th></th>\n",
       "    </tr>\n",
       "  </thead>\n",
       "  <tbody>\n",
       "    <tr>\n",
       "      <th>0</th>\n",
       "      <td>leagueoflegends</td>\n",
       "      <td>teamredditteams</td>\n",
       "      <td>1u4nrps</td>\n",
       "      <td>2013-12-31 16:39:58</td>\n",
       "      <td>1</td>\n",
       "      <td>345.0</td>\n",
       "      <td>298.0</td>\n",
       "      <td>0.756522</td>\n",
       "      <td>0.017391</td>\n",
       "      <td>0.086957</td>\n",
       "      <td>...</td>\n",
       "      <td>0.068966</td>\n",
       "      <td>0.034483</td>\n",
       "      <td>0.0</td>\n",
       "      <td>0.0</td>\n",
       "      <td>0.0</td>\n",
       "      <td>0.0</td>\n",
       "      <td>0.0</td>\n",
       "      <td>0.0</td>\n",
       "      <td>0.000000</td>\n",
       "      <td>0.000000</td>\n",
       "    </tr>\n",
       "    <tr>\n",
       "      <th>1</th>\n",
       "      <td>theredlion</td>\n",
       "      <td>soccer</td>\n",
       "      <td>1u4qkd</td>\n",
       "      <td>2013-12-31 18:18:37</td>\n",
       "      <td>-1</td>\n",
       "      <td>101.0</td>\n",
       "      <td>98.0</td>\n",
       "      <td>0.742574</td>\n",
       "      <td>0.019802</td>\n",
       "      <td>0.049505</td>\n",
       "      <td>...</td>\n",
       "      <td>0.000000</td>\n",
       "      <td>0.066667</td>\n",
       "      <td>0.0</td>\n",
       "      <td>0.0</td>\n",
       "      <td>0.0</td>\n",
       "      <td>0.0</td>\n",
       "      <td>0.0</td>\n",
       "      <td>0.0</td>\n",
       "      <td>0.000000</td>\n",
       "      <td>0.000000</td>\n",
       "    </tr>\n",
       "    <tr>\n",
       "      <th>2</th>\n",
       "      <td>inlandempire</td>\n",
       "      <td>bikela</td>\n",
       "      <td>1u4qlzs</td>\n",
       "      <td>2014-01-01 14:54:35</td>\n",
       "      <td>1</td>\n",
       "      <td>85.0</td>\n",
       "      <td>85.0</td>\n",
       "      <td>0.752941</td>\n",
       "      <td>0.023529</td>\n",
       "      <td>0.082353</td>\n",
       "      <td>...</td>\n",
       "      <td>0.000000</td>\n",
       "      <td>0.000000</td>\n",
       "      <td>0.0</td>\n",
       "      <td>0.0</td>\n",
       "      <td>0.0</td>\n",
       "      <td>0.0</td>\n",
       "      <td>0.0</td>\n",
       "      <td>0.0</td>\n",
       "      <td>0.000000</td>\n",
       "      <td>0.000000</td>\n",
       "    </tr>\n",
       "    <tr>\n",
       "      <th>3</th>\n",
       "      <td>nfl</td>\n",
       "      <td>cfb</td>\n",
       "      <td>1u4sjvs</td>\n",
       "      <td>2013-12-31 17:37:55</td>\n",
       "      <td>1</td>\n",
       "      <td>1124.0</td>\n",
       "      <td>949.0</td>\n",
       "      <td>0.772242</td>\n",
       "      <td>0.001779</td>\n",
       "      <td>0.057829</td>\n",
       "      <td>...</td>\n",
       "      <td>0.031250</td>\n",
       "      <td>0.020833</td>\n",
       "      <td>0.0</td>\n",
       "      <td>0.0</td>\n",
       "      <td>0.0</td>\n",
       "      <td>0.0</td>\n",
       "      <td>0.0</td>\n",
       "      <td>0.0</td>\n",
       "      <td>0.020833</td>\n",
       "      <td>0.005208</td>\n",
       "    </tr>\n",
       "    <tr>\n",
       "      <th>4</th>\n",
       "      <td>playmygame</td>\n",
       "      <td>gamedev</td>\n",
       "      <td>1u4w5ss</td>\n",
       "      <td>2014-01-01 02:51:13</td>\n",
       "      <td>1</td>\n",
       "      <td>715.0</td>\n",
       "      <td>622.0</td>\n",
       "      <td>0.777622</td>\n",
       "      <td>0.006993</td>\n",
       "      <td>0.025175</td>\n",
       "      <td>...</td>\n",
       "      <td>0.016667</td>\n",
       "      <td>0.025000</td>\n",
       "      <td>0.0</td>\n",
       "      <td>0.0</td>\n",
       "      <td>0.0</td>\n",
       "      <td>0.0</td>\n",
       "      <td>0.0</td>\n",
       "      <td>0.0</td>\n",
       "      <td>0.000000</td>\n",
       "      <td>0.008333</td>\n",
       "    </tr>\n",
       "  </tbody>\n",
       "</table>\n",
       "<p>5 rows × 91 columns</p>\n",
       "</div>"
      ],
      "text/plain": [
       "  SOURCE_SUBREDDIT TARGET_SUBREDDIT  POST_ID            TIMESTAMP  \\\n",
       "0  leagueoflegends  teamredditteams  1u4nrps  2013-12-31 16:39:58   \n",
       "1       theredlion           soccer   1u4qkd  2013-12-31 18:18:37   \n",
       "2     inlandempire           bikela  1u4qlzs  2014-01-01 14:54:35   \n",
       "3              nfl              cfb  1u4sjvs  2013-12-31 17:37:55   \n",
       "4       playmygame          gamedev  1u4w5ss  2014-01-01 02:51:13   \n",
       "\n",
       "   LINK_SENTIMENT  Number of characters without counting white space  \\\n",
       "0               1                                              345.0   \n",
       "1              -1                                              101.0   \n",
       "2               1                                               85.0   \n",
       "3               1                                             1124.0   \n",
       "4               1                                              715.0   \n",
       "\n",
       "   Fraction of alphabetical characters  Fraction of digits  \\\n",
       "0                                298.0            0.756522   \n",
       "1                                 98.0            0.742574   \n",
       "2                                 85.0            0.752941   \n",
       "3                                949.0            0.772242   \n",
       "4                                622.0            0.777622   \n",
       "\n",
       "   Fraction of uppercase characters  Fraction of white spaces  ...  \\\n",
       "0                          0.017391                  0.086957  ...   \n",
       "1                          0.019802                  0.049505  ...   \n",
       "2                          0.023529                  0.082353  ...   \n",
       "3                          0.001779                  0.057829  ...   \n",
       "4                          0.006993                  0.025175  ...   \n",
       "\n",
       "    LIWC_Leisure   LIWC_Home   LIWC_Money   LIWC_Relig   LIWC_Death  \\\n",
       "0       0.068966    0.034483          0.0          0.0          0.0   \n",
       "1       0.000000    0.066667          0.0          0.0          0.0   \n",
       "2       0.000000    0.000000          0.0          0.0          0.0   \n",
       "3       0.031250    0.020833          0.0          0.0          0.0   \n",
       "4       0.016667    0.025000          0.0          0.0          0.0   \n",
       "\n",
       "    LIWC_Assent   LIWC_Dissent   LIWC_Nonflu   LIWC_Filler            \n",
       "0           0.0            0.0           0.0      0.000000  0.000000  \n",
       "1           0.0            0.0           0.0      0.000000  0.000000  \n",
       "2           0.0            0.0           0.0      0.000000  0.000000  \n",
       "3           0.0            0.0           0.0      0.020833  0.005208  \n",
       "4           0.0            0.0           0.0      0.000000  0.008333  \n",
       "\n",
       "[5 rows x 91 columns]"
      ]
     },
     "execution_count": 292,
     "metadata": {},
     "output_type": "execute_result"
    }
   ],
   "source": [
    "df.head()"
   ]
  },
  {
   "cell_type": "code",
   "execution_count": 293,
   "metadata": {},
   "outputs": [
    {
     "data": {
      "text/html": [
       "<div>\n",
       "<style scoped>\n",
       "    .dataframe tbody tr th:only-of-type {\n",
       "        vertical-align: middle;\n",
       "    }\n",
       "\n",
       "    .dataframe tbody tr th {\n",
       "        vertical-align: top;\n",
       "    }\n",
       "\n",
       "    .dataframe thead th {\n",
       "        text-align: right;\n",
       "    }\n",
       "</style>\n",
       "<table border=\"1\" class=\"dataframe\">\n",
       "  <thead>\n",
       "    <tr style=\"text-align: right;\">\n",
       "      <th></th>\n",
       "      <th>Number of characters without counting white space</th>\n",
       "      <th>Fraction of alphabetical characters</th>\n",
       "      <th>Fraction of digits</th>\n",
       "      <th>Fraction of uppercase characters</th>\n",
       "      <th>Fraction of white spaces</th>\n",
       "      <th>Fraction of special characters, such as comma, exclamation mark, etc.</th>\n",
       "      <th>Number of words</th>\n",
       "      <th>Number of unique works</th>\n",
       "      <th>Number of long words (at least 6 characters)</th>\n",
       "      <th>Average word length</th>\n",
       "      <th>...</th>\n",
       "      <th>LIWC_Leisure</th>\n",
       "      <th>LIWC_Home</th>\n",
       "      <th>LIWC_Money</th>\n",
       "      <th>LIWC_Relig</th>\n",
       "      <th>LIWC_Death</th>\n",
       "      <th>LIWC_Assent</th>\n",
       "      <th>LIWC_Dissent</th>\n",
       "      <th>LIWC_Nonflu</th>\n",
       "      <th>LIWC_Filler</th>\n",
       "      <th></th>\n",
       "    </tr>\n",
       "  </thead>\n",
       "  <tbody>\n",
       "    <tr>\n",
       "      <th>0</th>\n",
       "      <td>345.0</td>\n",
       "      <td>298.0</td>\n",
       "      <td>0.756522</td>\n",
       "      <td>0.017391</td>\n",
       "      <td>0.086957</td>\n",
       "      <td>0.150725</td>\n",
       "      <td>0.075362</td>\n",
       "      <td>57.0</td>\n",
       "      <td>53.0</td>\n",
       "      <td>10.0</td>\n",
       "      <td>...</td>\n",
       "      <td>0.068966</td>\n",
       "      <td>0.034483</td>\n",
       "      <td>0.0</td>\n",
       "      <td>0.0</td>\n",
       "      <td>0.0</td>\n",
       "      <td>0.0</td>\n",
       "      <td>0.0</td>\n",
       "      <td>0.0</td>\n",
       "      <td>0.000000</td>\n",
       "      <td>0.000000</td>\n",
       "    </tr>\n",
       "    <tr>\n",
       "      <th>1</th>\n",
       "      <td>101.0</td>\n",
       "      <td>98.0</td>\n",
       "      <td>0.742574</td>\n",
       "      <td>0.019802</td>\n",
       "      <td>0.049505</td>\n",
       "      <td>0.059406</td>\n",
       "      <td>0.178218</td>\n",
       "      <td>14.0</td>\n",
       "      <td>14.0</td>\n",
       "      <td>2.0</td>\n",
       "      <td>...</td>\n",
       "      <td>0.000000</td>\n",
       "      <td>0.066667</td>\n",
       "      <td>0.0</td>\n",
       "      <td>0.0</td>\n",
       "      <td>0.0</td>\n",
       "      <td>0.0</td>\n",
       "      <td>0.0</td>\n",
       "      <td>0.0</td>\n",
       "      <td>0.000000</td>\n",
       "      <td>0.000000</td>\n",
       "    </tr>\n",
       "    <tr>\n",
       "      <th>2</th>\n",
       "      <td>85.0</td>\n",
       "      <td>85.0</td>\n",
       "      <td>0.752941</td>\n",
       "      <td>0.023529</td>\n",
       "      <td>0.082353</td>\n",
       "      <td>0.011765</td>\n",
       "      <td>0.211765</td>\n",
       "      <td>10.0</td>\n",
       "      <td>10.0</td>\n",
       "      <td>2.0</td>\n",
       "      <td>...</td>\n",
       "      <td>0.000000</td>\n",
       "      <td>0.000000</td>\n",
       "      <td>0.0</td>\n",
       "      <td>0.0</td>\n",
       "      <td>0.0</td>\n",
       "      <td>0.0</td>\n",
       "      <td>0.0</td>\n",
       "      <td>0.0</td>\n",
       "      <td>0.000000</td>\n",
       "      <td>0.000000</td>\n",
       "    </tr>\n",
       "    <tr>\n",
       "      <th>3</th>\n",
       "      <td>1124.0</td>\n",
       "      <td>949.0</td>\n",
       "      <td>0.772242</td>\n",
       "      <td>0.001779</td>\n",
       "      <td>0.057829</td>\n",
       "      <td>0.179715</td>\n",
       "      <td>0.046263</td>\n",
       "      <td>191.0</td>\n",
       "      <td>125.0</td>\n",
       "      <td>34.0</td>\n",
       "      <td>...</td>\n",
       "      <td>0.031250</td>\n",
       "      <td>0.020833</td>\n",
       "      <td>0.0</td>\n",
       "      <td>0.0</td>\n",
       "      <td>0.0</td>\n",
       "      <td>0.0</td>\n",
       "      <td>0.0</td>\n",
       "      <td>0.0</td>\n",
       "      <td>0.020833</td>\n",
       "      <td>0.005208</td>\n",
       "    </tr>\n",
       "    <tr>\n",
       "      <th>4</th>\n",
       "      <td>715.0</td>\n",
       "      <td>622.0</td>\n",
       "      <td>0.777622</td>\n",
       "      <td>0.006993</td>\n",
       "      <td>0.025175</td>\n",
       "      <td>0.145455</td>\n",
       "      <td>0.069930</td>\n",
       "      <td>119.0</td>\n",
       "      <td>92.0</td>\n",
       "      <td>22.0</td>\n",
       "      <td>...</td>\n",
       "      <td>0.016667</td>\n",
       "      <td>0.025000</td>\n",
       "      <td>0.0</td>\n",
       "      <td>0.0</td>\n",
       "      <td>0.0</td>\n",
       "      <td>0.0</td>\n",
       "      <td>0.0</td>\n",
       "      <td>0.0</td>\n",
       "      <td>0.000000</td>\n",
       "      <td>0.008333</td>\n",
       "    </tr>\n",
       "  </tbody>\n",
       "</table>\n",
       "<p>5 rows × 86 columns</p>\n",
       "</div>"
      ],
      "text/plain": [
       "   Number of characters without counting white space  \\\n",
       "0                                              345.0   \n",
       "1                                              101.0   \n",
       "2                                               85.0   \n",
       "3                                             1124.0   \n",
       "4                                              715.0   \n",
       "\n",
       "   Fraction of alphabetical characters  Fraction of digits  \\\n",
       "0                                298.0            0.756522   \n",
       "1                                 98.0            0.742574   \n",
       "2                                 85.0            0.752941   \n",
       "3                                949.0            0.772242   \n",
       "4                                622.0            0.777622   \n",
       "\n",
       "   Fraction of uppercase characters  Fraction of white spaces  \\\n",
       "0                          0.017391                  0.086957   \n",
       "1                          0.019802                  0.049505   \n",
       "2                          0.023529                  0.082353   \n",
       "3                          0.001779                  0.057829   \n",
       "4                          0.006993                  0.025175   \n",
       "\n",
       "   Fraction of special characters, such as comma, exclamation mark, etc.  \\\n",
       "0                                           0.150725                       \n",
       "1                                           0.059406                       \n",
       "2                                           0.011765                       \n",
       "3                                           0.179715                       \n",
       "4                                           0.145455                       \n",
       "\n",
       "   Number of words  Number of unique works  \\\n",
       "0         0.075362                    57.0   \n",
       "1         0.178218                    14.0   \n",
       "2         0.211765                    10.0   \n",
       "3         0.046263                   191.0   \n",
       "4         0.069930                   119.0   \n",
       "\n",
       "    Number of long words (at least 6 characters)   Average word length  ...  \\\n",
       "0                                           53.0                  10.0  ...   \n",
       "1                                           14.0                   2.0  ...   \n",
       "2                                           10.0                   2.0  ...   \n",
       "3                                          125.0                  34.0  ...   \n",
       "4                                           92.0                  22.0  ...   \n",
       "\n",
       "    LIWC_Leisure   LIWC_Home   LIWC_Money   LIWC_Relig   LIWC_Death  \\\n",
       "0       0.068966    0.034483          0.0          0.0          0.0   \n",
       "1       0.000000    0.066667          0.0          0.0          0.0   \n",
       "2       0.000000    0.000000          0.0          0.0          0.0   \n",
       "3       0.031250    0.020833          0.0          0.0          0.0   \n",
       "4       0.016667    0.025000          0.0          0.0          0.0   \n",
       "\n",
       "    LIWC_Assent   LIWC_Dissent   LIWC_Nonflu   LIWC_Filler            \n",
       "0           0.0            0.0           0.0      0.000000  0.000000  \n",
       "1           0.0            0.0           0.0      0.000000  0.000000  \n",
       "2           0.0            0.0           0.0      0.000000  0.000000  \n",
       "3           0.0            0.0           0.0      0.020833  0.005208  \n",
       "4           0.0            0.0           0.0      0.000000  0.008333  \n",
       "\n",
       "[5 rows x 86 columns]"
      ]
     },
     "execution_count": 293,
     "metadata": {},
     "output_type": "execute_result"
    }
   ],
   "source": [
    "df[train_columns].head()"
   ]
  },
  {
   "cell_type": "code",
   "execution_count": 294,
   "metadata": {},
   "outputs": [],
   "source": [
    "model.add(BatchNormalization())\n",
    "model.add(Dense(units=1, activation='relu', input_dim=86))\n"
   ]
  },
  {
   "cell_type": "code",
   "execution_count": 295,
   "metadata": {},
   "outputs": [],
   "source": [
    "model.compile(loss='mean_squared_error',\n",
    "              optimizer='sgd',\n",
    "              metrics=['accuracy'])"
   ]
  },
  {
   "cell_type": "code",
   "execution_count": 296,
   "metadata": {},
   "outputs": [
    {
     "name": "stdout",
     "output_type": "stream",
     "text": [
      "Epoch 1/10\n",
      "51670/51670 [==============================] - 3s 66us/step - loss: 0.1292 - accuracy: 0.8481\n",
      "Epoch 2/10\n",
      "51670/51670 [==============================] - 3s 64us/step - loss: 0.1218 - accuracy: 0.8570\n",
      "Epoch 3/10\n",
      "51670/51670 [==============================] - 3s 62us/step - loss: 0.1214 - accuracy: 0.8571\n",
      "Epoch 4/10\n",
      "51670/51670 [==============================] - 3s 63us/step - loss: 0.1213 - accuracy: 0.8571\n",
      "Epoch 5/10\n",
      "51670/51670 [==============================] - 3s 63us/step - loss: 0.1211 - accuracy: 0.8571\n",
      "Epoch 6/10\n",
      "51670/51670 [==============================] - 4s 68us/step - loss: 0.1210 - accuracy: 0.8571\n",
      "Epoch 7/10\n",
      "51670/51670 [==============================] - 3s 65us/step - loss: 0.1209 - accuracy: 0.8571\n",
      "Epoch 8/10\n",
      "51670/51670 [==============================] - 3s 66us/step - loss: 0.1208 - accuracy: 0.8571 0s - loss: 0.1208 - accuracy: 0.85\n",
      "Epoch 9/10\n",
      "51670/51670 [==============================] - 4s 73us/step - loss: 0.1208 - accuracy: 0.8571 0s - loss: 0.1208 \n",
      "Epoch 10/10\n",
      "51670/51670 [==============================] - 5s 91us/step - loss: 0.1208 - accuracy: 0.8571\n"
     ]
    }
   ],
   "source": [
    "X_train, X_test, y_train, y_test = train_test_split(top_X, top_y, test_size=0.1)\n",
    "history = model.fit(X_train, y_train, epochs=10, batch_size=32)"
   ]
  },
  {
   "cell_type": "code",
   "execution_count": null,
   "metadata": {},
   "outputs": [],
   "source": []
  },
  {
   "cell_type": "code",
   "execution_count": null,
   "metadata": {},
   "outputs": [],
   "source": [
    "# Multi-Layer Model, No Activations"
   ]
  },
  {
   "cell_type": "code",
   "execution_count": 302,
   "metadata": {},
   "outputs": [
    {
     "name": "stdout",
     "output_type": "stream",
     "text": [
      "Epoch 1/10\n",
      "51670/51670 [==============================] - 5s 104us/step - loss: 0.1251 - accuracy: 0.8543\n",
      "Epoch 2/10\n",
      "51670/51670 [==============================] - 5s 89us/step - loss: 0.1220 - accuracy: 0.8571\n",
      "Epoch 3/10\n",
      "51670/51670 [==============================] - 4s 82us/step - loss: 0.1218 - accuracy: 0.8571\n",
      "Epoch 4/10\n",
      "51670/51670 [==============================] - 4s 76us/step - loss: 0.1215 - accuracy: 0.8571\n",
      "Epoch 5/10\n",
      "51670/51670 [==============================] - 4s 77us/step - loss: 0.1213 - accuracy: 0.8571\n",
      "Epoch 6/10\n",
      "51670/51670 [==============================] - 5s 92us/step - loss: 0.1213 - accuracy: 0.8571\n",
      "Epoch 7/10\n",
      "51670/51670 [==============================] - 4s 80us/step - loss: 0.1212 - accuracy: 0.8571\n",
      "Epoch 8/10\n",
      "51670/51670 [==============================] - 4s 80us/step - loss: 0.1211 - accuracy: 0.8571\n",
      "Epoch 9/10\n",
      "51670/51670 [==============================] - 4s 78us/step - loss: 0.1209 - accuracy: 0.8571\n",
      "Epoch 10/10\n",
      "51670/51670 [==============================] - 7s 136us/step - loss: 0.1207 - accuracy: 0.85711s - l - ETA: 0s - loss: 0.1205 \n"
     ]
    }
   ],
   "source": [
    "deep_model = Sequential()\n",
    "deep_model.add(BatchNormalization())\n",
    "deep_model.add(Dense(units=64, activation='linear', input_dim=86))\n",
    "deep_model.add(Dense(units=64, activation='linear', input_dim=64))\n",
    "deep_model.add(Dense(units=1, activation='linear', input_dim=64))\n",
    "deep_model.compile(loss='mean_squared_error',\n",
    "              optimizer='sgd',\n",
    "              metrics=['accuracy'])\n",
    "deep_history = deep_model.fit(X_train, y_train, epochs=10, batch_size=32)"
   ]
  },
  {
   "cell_type": "code",
   "execution_count": null,
   "metadata": {},
   "outputs": [],
   "source": []
  },
  {
   "cell_type": "code",
   "execution_count": null,
   "metadata": {},
   "outputs": [],
   "source": [
    "# Multi-Layer Model with ReLU Activations"
   ]
  },
  {
   "cell_type": "code",
   "execution_count": 317,
   "metadata": {},
   "outputs": [
    {
     "name": "stdout",
     "output_type": "stream",
     "text": [
      "Epoch 1/10\n",
      "51670/51670 [==============================] - 4s 70us/step - loss: 0.1310 - accuracy: 0.8467\n",
      "Epoch 2/10\n",
      "51670/51670 [==============================] - 3s 68us/step - loss: 0.1216 - accuracy: 0.8571\n",
      "Epoch 3/10\n",
      "51670/51670 [==============================] - 3s 61us/step - loss: 0.1211 - accuracy: 0.8571\n",
      "Epoch 4/10\n",
      "51670/51670 [==============================] - 3s 59us/step - loss: 0.1208 - accuracy: 0.8571\n",
      "Epoch 5/10\n",
      "51670/51670 [==============================] - 3s 67us/step - loss: 0.1206 - accuracy: 0.8571\n",
      "Epoch 6/10\n",
      "51670/51670 [==============================] - 4s 77us/step - loss: 0.1205 - accuracy: 0.8571\n",
      "Epoch 7/10\n",
      "51670/51670 [==============================] - 3s 54us/step - loss: 0.1203 - accuracy: 0.8571 0s - loss: 0.1202 - \n",
      "Epoch 8/10\n",
      "51670/51670 [==============================] - 3s 66us/step - loss: 0.1202 - accuracy: 0.8571 0s - loss: 0.1209 - ac - ETA: 0s -\n",
      "Epoch 9/10\n",
      "51670/51670 [==============================] - 3s 63us/step - loss: 0.1202 - accuracy: 0.8571\n",
      "Epoch 10/10\n",
      "51670/51670 [==============================] - 8s 146us/step - loss: 0.1202 - accuracy: 0.8571\n"
     ]
    }
   ],
   "source": [
    "relu_model = Sequential()\n",
    "relu_model.add(BatchNormalization())\n",
    "relu_model.add(Dense(units=64, activation='relu', input_dim=86))\n",
    "relu_model.add(Dense(units=64, activation='relu', input_dim=64))\n",
    "relu_model.add(Dense(units=1, activation='relu', input_dim=64))\n",
    "relu_model.compile(loss='mean_squared_error',\n",
    "              optimizer='sgd',\n",
    "              metrics=['accuracy'])\n",
    "relu_history = relu_model.fit(X_train, y_train, epochs=10, batch_size=32)"
   ]
  },
  {
   "cell_type": "code",
   "execution_count": 352,
   "metadata": {},
   "outputs": [
    {
     "name": "stdout",
     "output_type": "stream",
     "text": [
      "Epoch 1/10\n",
      "51670/51670 [==============================] - 3s 66us/step - loss: 0.1271 - accuracy: 0.8512\n",
      "Epoch 2/10\n",
      "51670/51670 [==============================] - 3s 58us/step - loss: 0.1213 - accuracy: 0.8571\n",
      "Epoch 3/10\n",
      "51670/51670 [==============================] - 3s 54us/step - loss: 0.1208 - accuracy: 0.8571\n",
      "Epoch 4/10\n",
      "51670/51670 [==============================] - 3s 55us/step - loss: 0.1206 - accuracy: 0.8571\n",
      "Epoch 5/10\n",
      "51670/51670 [==============================] - 3s 59us/step - loss: 0.1204 - accuracy: 0.8571\n",
      "Epoch 6/10\n",
      "51670/51670 [==============================] - 3s 65us/step - loss: 0.1202 - accuracy: 0.8571\n",
      "Epoch 7/10\n",
      "51670/51670 [==============================] - 3s 64us/step - loss: 0.1201 - accuracy: 0.8571\n",
      "Epoch 8/10\n",
      "51670/51670 [==============================] - 3s 63us/step - loss: 0.1200 - accuracy: 0.8571\n",
      "Epoch 9/10\n",
      "51670/51670 [==============================] - 3s 55us/step - loss: 0.1200 - accuracy: 0.8571\n",
      "Epoch 10/10\n",
      "51670/51670 [==============================] - 3s 57us/step - loss: 0.1199 - accuracy: 0.8571\n"
     ]
    }
   ],
   "source": [
    "from keras.layers import LeakyReLU\n",
    "leaky_model = Sequential()\n",
    "leaky_model.add(BatchNormalization())\n",
    "leaky_model.add(Dense(units=64, input_dim=86))\n",
    "leaky_model.add(LeakyReLU(alpha=0.05))\n",
    "leaky_model.add(Dense(units=64))#, activation='relu', input_dim=64))\n",
    "leaky_model.add(LeakyReLU(alpha=0.05))\n",
    "leaky_model.add(Dense(units=1))#, activation='relu', input_dim=64))\n",
    "\n",
    "leaky_model.compile(loss='mean_squared_error',\n",
    "              optimizer='sgd',\n",
    "              metrics=['accuracy'])\n",
    "\n",
    "leaky_history = leaky_model.fit(X_train, y_train, epochs=10, batch_size=32)"
   ]
  },
  {
   "cell_type": "code",
   "execution_count": 359,
   "metadata": {},
   "outputs": [
    {
     "data": {
      "image/png": "[encoded data removed]",
      "text/plain": [
       "<Figure size 432x288 with 1 Axes>"
      ]
     },
     "metadata": {
      "needs_background": "light"
     },
     "output_type": "display_data"
    }
   ],
   "source": [
    "orig_accuracy = history.history['accuracy']\n",
    "deep_accuracy = deep_history.history['accuracy']\n",
    "relu_accuracy = relu_history.history['accuracy']\n",
    "leaky_accuracy = leaky_history.history['accuracy']\n",
    "\n",
    "epochs = range(1,11)\n",
    "\n",
    "plt.plot(epochs, orig_accuracy, label='1-Layer')\n",
    "plt.plot(epochs, deep_accuracy, label='Linear Activation')\n",
    "plt.plot(epochs, relu_accuracy, label='ReLU Activation')\n",
    "plt.plot(epochs, leaky_accuracy, label='Leaky ReLU Activation')\n",
    "\n",
    "\n",
    "plt.xlabel('Epochs')\n",
    "plt.ylabel('Accuracy')\n",
    "plt.xticks(np.arange(1,11,1))\n",
    "\n",
    "plt.title('Model Accuracy')\n",
    "plt.legend()\n",
    "\n",
    "plt.tight_layout()\n",
    "\n",
    "plt.show()"
   ]
  },
  {
   "cell_type": "code",
   "execution_count": 357,
   "metadata": {},
   "outputs": [
    {
     "data": {
      "image/png": "[encoded data removed]",
      "text/plain": [
       "<Figure size 432x288 with 1 Axes>"
      ]
     },
     "metadata": {
      "needs_background": "light"
     },
     "output_type": "display_data"
    }
   ],
   "source": [
    "orig_loss = history.history['loss']\n",
    "deep_loss = deep_history.history['loss']\n",
    "relu_loss = relu_history.history['loss']\n",
    "leaky_loss = leaky_history.history['loss']\n",
    "\n",
    "plt.plot(epochs, orig_loss, label='1-Layer')\n",
    "plt.plot(epochs, deep_loss, label='Linear Activation')\n",
    "plt.plot(epochs, relu_loss, label='ReLU Activation')\n",
    "plt.plot(epochs, leaky_loss, label='Leaky ReLU Activation')\n",
    "\n",
    "plt.ylabel('Loss')\n",
    "plt.xlabel('Epochs')\n",
    "plt.xticks(np.arange(1,11,1))\n",
    "\n",
    "plt.title('Model Loss')\n",
    "plt.legend()\n",
    "\n",
    "plt.tight_layout()\n",
    "\n",
    "plt.show()"
   ]
  },
  {
   "cell_type": "markdown",
   "metadata": {},
   "source": [
    "# Post Lookup"
   ]
  },
  {
   "cell_type": "code",
   "execution_count": 105,
   "metadata": {},
   "outputs": [],
   "source": [
    "import requests\n",
    "import praw"
   ]
  },
  {
   "cell_type": "code",
   "execution_count": 100,
   "metadata": {},
   "outputs": [],
   "source": [
    "payload = {'id': 't3_1u4nrps'}\n",
    "url = \"https://oauth.reddit.com/api/info\"\n",
    "r = requests.get(url, params=payload)"
   ]
  },
  {
   "cell_type": "code",
   "execution_count": 99,
   "metadata": {},
   "outputs": [
    {
     "data": {
      "text/plain": [
       "<Response [403]>"
      ]
     },
     "execution_count": 99,
     "metadata": {},
     "output_type": "execute_result"
    }
   ],
   "source": [
    "r"
   ]
  },
  {
   "cell_type": "code",
   "execution_count": 121,
   "metadata": {},
   "outputs": [
    {
     "data": {
      "text/html": [
       "<div>\n",
       "<style scoped>\n",
       "    .dataframe tbody tr th:only-of-type {\n",
       "        vertical-align: middle;\n",
       "    }\n",
       "\n",
       "    .dataframe tbody tr th {\n",
       "        vertical-align: top;\n",
       "    }\n",
       "\n",
       "    .dataframe thead th {\n",
       "        text-align: right;\n",
       "    }\n",
       "</style>\n",
       "<table border=\"1\" class=\"dataframe\">\n",
       "  <thead>\n",
       "    <tr style=\"text-align: right;\">\n",
       "      <th></th>\n",
       "      <th>SOURCE_SUBREDDIT</th>\n",
       "      <th>TARGET_SUBREDDIT</th>\n",
       "      <th>POST_ID</th>\n",
       "      <th>TIMESTAMP</th>\n",
       "      <th>LINK_SENTIMENT</th>\n",
       "      <th>Number of characters without counting white space</th>\n",
       "      <th>Fraction of alphabetical characters</th>\n",
       "      <th>Fraction of digits</th>\n",
       "      <th>Fraction of uppercase characters</th>\n",
       "      <th>Fraction of white spaces</th>\n",
       "      <th>...</th>\n",
       "      <th>LIWC_Leisure</th>\n",
       "      <th>LIWC_Home</th>\n",
       "      <th>LIWC_Money</th>\n",
       "      <th>LIWC_Relig</th>\n",
       "      <th>LIWC_Death</th>\n",
       "      <th>LIWC_Assent</th>\n",
       "      <th>LIWC_Dissent</th>\n",
       "      <th>LIWC_Nonflu</th>\n",
       "      <th>LIWC_Filler</th>\n",
       "      <th></th>\n",
       "    </tr>\n",
       "  </thead>\n",
       "  <tbody>\n",
       "    <tr>\n",
       "      <th>0</th>\n",
       "      <td>leagueoflegends</td>\n",
       "      <td>teamredditteams</td>\n",
       "      <td>1u4nrps</td>\n",
       "      <td>2013-12-31 16:39:58</td>\n",
       "      <td>1</td>\n",
       "      <td>345.0</td>\n",
       "      <td>298.0</td>\n",
       "      <td>0.756522</td>\n",
       "      <td>0.017391</td>\n",
       "      <td>0.086957</td>\n",
       "      <td>...</td>\n",
       "      <td>0.068966</td>\n",
       "      <td>0.034483</td>\n",
       "      <td>0.0</td>\n",
       "      <td>0.0</td>\n",
       "      <td>0.0</td>\n",
       "      <td>0.0</td>\n",
       "      <td>0.0</td>\n",
       "      <td>0.0</td>\n",
       "      <td>0.000000</td>\n",
       "      <td>0.000000</td>\n",
       "    </tr>\n",
       "    <tr>\n",
       "      <th>1</th>\n",
       "      <td>theredlion</td>\n",
       "      <td>soccer</td>\n",
       "      <td>1u4qkd</td>\n",
       "      <td>2013-12-31 18:18:37</td>\n",
       "      <td>-1</td>\n",
       "      <td>101.0</td>\n",
       "      <td>98.0</td>\n",
       "      <td>0.742574</td>\n",
       "      <td>0.019802</td>\n",
       "      <td>0.049505</td>\n",
       "      <td>...</td>\n",
       "      <td>0.000000</td>\n",
       "      <td>0.066667</td>\n",
       "      <td>0.0</td>\n",
       "      <td>0.0</td>\n",
       "      <td>0.0</td>\n",
       "      <td>0.0</td>\n",
       "      <td>0.0</td>\n",
       "      <td>0.0</td>\n",
       "      <td>0.000000</td>\n",
       "      <td>0.000000</td>\n",
       "    </tr>\n",
       "    <tr>\n",
       "      <th>2</th>\n",
       "      <td>inlandempire</td>\n",
       "      <td>bikela</td>\n",
       "      <td>1u4qlzs</td>\n",
       "      <td>2014-01-01 14:54:35</td>\n",
       "      <td>1</td>\n",
       "      <td>85.0</td>\n",
       "      <td>85.0</td>\n",
       "      <td>0.752941</td>\n",
       "      <td>0.023529</td>\n",
       "      <td>0.082353</td>\n",
       "      <td>...</td>\n",
       "      <td>0.000000</td>\n",
       "      <td>0.000000</td>\n",
       "      <td>0.0</td>\n",
       "      <td>0.0</td>\n",
       "      <td>0.0</td>\n",
       "      <td>0.0</td>\n",
       "      <td>0.0</td>\n",
       "      <td>0.0</td>\n",
       "      <td>0.000000</td>\n",
       "      <td>0.000000</td>\n",
       "    </tr>\n",
       "    <tr>\n",
       "      <th>3</th>\n",
       "      <td>nfl</td>\n",
       "      <td>cfb</td>\n",
       "      <td>1u4sjvs</td>\n",
       "      <td>2013-12-31 17:37:55</td>\n",
       "      <td>1</td>\n",
       "      <td>1124.0</td>\n",
       "      <td>949.0</td>\n",
       "      <td>0.772242</td>\n",
       "      <td>0.001779</td>\n",
       "      <td>0.057829</td>\n",
       "      <td>...</td>\n",
       "      <td>0.031250</td>\n",
       "      <td>0.020833</td>\n",
       "      <td>0.0</td>\n",
       "      <td>0.0</td>\n",
       "      <td>0.0</td>\n",
       "      <td>0.0</td>\n",
       "      <td>0.0</td>\n",
       "      <td>0.0</td>\n",
       "      <td>0.020833</td>\n",
       "      <td>0.005208</td>\n",
       "    </tr>\n",
       "    <tr>\n",
       "      <th>4</th>\n",
       "      <td>playmygame</td>\n",
       "      <td>gamedev</td>\n",
       "      <td>1u4w5ss</td>\n",
       "      <td>2014-01-01 02:51:13</td>\n",
       "      <td>1</td>\n",
       "      <td>715.0</td>\n",
       "      <td>622.0</td>\n",
       "      <td>0.777622</td>\n",
       "      <td>0.006993</td>\n",
       "      <td>0.025175</td>\n",
       "      <td>...</td>\n",
       "      <td>0.016667</td>\n",
       "      <td>0.025000</td>\n",
       "      <td>0.0</td>\n",
       "      <td>0.0</td>\n",
       "      <td>0.0</td>\n",
       "      <td>0.0</td>\n",
       "      <td>0.0</td>\n",
       "      <td>0.0</td>\n",
       "      <td>0.000000</td>\n",
       "      <td>0.008333</td>\n",
       "    </tr>\n",
       "  </tbody>\n",
       "</table>\n",
       "<p>5 rows × 91 columns</p>\n",
       "</div>"
      ],
      "text/plain": [
       "  SOURCE_SUBREDDIT TARGET_SUBREDDIT  POST_ID            TIMESTAMP  \\\n",
       "0  leagueoflegends  teamredditteams  1u4nrps  2013-12-31 16:39:58   \n",
       "1       theredlion           soccer   1u4qkd  2013-12-31 18:18:37   \n",
       "2     inlandempire           bikela  1u4qlzs  2014-01-01 14:54:35   \n",
       "3              nfl              cfb  1u4sjvs  2013-12-31 17:37:55   \n",
       "4       playmygame          gamedev  1u4w5ss  2014-01-01 02:51:13   \n",
       "\n",
       "   LINK_SENTIMENT  Number of characters without counting white space  \\\n",
       "0               1                                              345.0   \n",
       "1              -1                                              101.0   \n",
       "2               1                                               85.0   \n",
       "3               1                                             1124.0   \n",
       "4               1                                              715.0   \n",
       "\n",
       "   Fraction of alphabetical characters  Fraction of digits  \\\n",
       "0                                298.0            0.756522   \n",
       "1                                 98.0            0.742574   \n",
       "2                                 85.0            0.752941   \n",
       "3                                949.0            0.772242   \n",
       "4                                622.0            0.777622   \n",
       "\n",
       "   Fraction of uppercase characters  Fraction of white spaces  ...  \\\n",
       "0                          0.017391                  0.086957  ...   \n",
       "1                          0.019802                  0.049505  ...   \n",
       "2                          0.023529                  0.082353  ...   \n",
       "3                          0.001779                  0.057829  ...   \n",
       "4                          0.006993                  0.025175  ...   \n",
       "\n",
       "    LIWC_Leisure   LIWC_Home   LIWC_Money   LIWC_Relig   LIWC_Death  \\\n",
       "0       0.068966    0.034483          0.0          0.0          0.0   \n",
       "1       0.000000    0.066667          0.0          0.0          0.0   \n",
       "2       0.000000    0.000000          0.0          0.0          0.0   \n",
       "3       0.031250    0.020833          0.0          0.0          0.0   \n",
       "4       0.016667    0.025000          0.0          0.0          0.0   \n",
       "\n",
       "    LIWC_Assent   LIWC_Dissent   LIWC_Nonflu   LIWC_Filler            \n",
       "0           0.0            0.0           0.0      0.000000  0.000000  \n",
       "1           0.0            0.0           0.0      0.000000  0.000000  \n",
       "2           0.0            0.0           0.0      0.000000  0.000000  \n",
       "3           0.0            0.0           0.0      0.020833  0.005208  \n",
       "4           0.0            0.0           0.0      0.000000  0.008333  \n",
       "\n",
       "[5 rows x 91 columns]"
      ]
     },
     "execution_count": 121,
     "metadata": {},
     "output_type": "execute_result"
    }
   ],
   "source": [
    "df.head()"
   ]
  },
  {
   "cell_type": "code",
   "execution_count": 107,
   "metadata": {},
   "outputs": [],
   "source": [
    "app_id = \"WNPRavmctL1k7A\"\n",
    "secret = \"5i7KCyyzmGprUMxWf7Z_HVoncyI\"\n",
    "agent = \"pc:com.example.myredditapp:v6.5.1 (by /u/punsandunicorns)\"\n",
    "username = \"\"\n",
    "password = \"\""
   ]
  },
  {
   "cell_type": "code",
   "execution_count": 108,
   "metadata": {},
   "outputs": [],
   "source": [
    "reddit = praw.Reddit(client_id=app_id,\n",
    "                     client_secret=secret,\n",
    "                     user_agent=agent,\n",
    "                     username=username,\n",
    "                     password=password)"
   ]
  },
  {
   "cell_type": "code",
   "execution_count": 110,
   "metadata": {},
   "outputs": [
    {
     "name": "stdout",
     "output_type": "stream",
     "text": [
      "reddit will soon only be available over HTTPS\n"
     ]
    }
   ],
   "source": [
    "submission = reddit.submission(id='39zje0')\n",
    "print(submission.title)"
   ]
  },
  {
   "cell_type": "code",
   "execution_count": 114,
   "metadata": {},
   "outputs": [],
   "source": [
    "subreddit = reddit.subreddit('leagueoflegends')\n"
   ]
  },
  {
   "cell_type": "code",
   "execution_count": 118,
   "metadata": {},
   "outputs": [
    {
     "data": {
      "text/plain": [
       "3967522"
      ]
     },
     "execution_count": 118,
     "metadata": {},
     "output_type": "execute_result"
    }
   ],
   "source": [
    "subreddit.subscribers"
   ]
  },
  {
   "cell_type": "code",
   "execution_count": 119,
   "metadata": {},
   "outputs": [],
   "source": [
    "submission = reddit.submission(id='1u4nrps')"
   ]
  },
  {
   "cell_type": "code",
   "execution_count": 120,
   "metadata": {},
   "outputs": [
    {
     "ename": "NotFound",
     "evalue": "received 404 HTTP response",
     "output_type": "error",
     "traceback": [
      "\u001b[0;31m------------------------------------------------------------------------\u001b[0m",
      "\u001b[0;31mNotFound\u001b[0m                               Traceback (most recent call last)",
      "\u001b[0;32m<ipython-input-120-dd1eac1a568f>\u001b[0m in \u001b[0;36m<module>\u001b[0;34m()\u001b[0m\n\u001b[0;32m----> 1\u001b[0;31m \u001b[0msubmission\u001b[0m\u001b[0;34m.\u001b[0m\u001b[0mauthor\u001b[0m\u001b[0;34m\u001b[0m\u001b[0m\n\u001b[0m",
      "\u001b[0;32m/Users/lucyzhang/anaconda3/envs/18065_env/lib/python3.5/site-packages/praw/models/reddit/base.py\u001b[0m in \u001b[0;36m__getattr__\u001b[0;34m(self, attribute)\u001b[0m\n\u001b[1;32m     31\u001b[0m         \u001b[0;34m\"\"\"Return the value of `attribute`.\"\"\"\u001b[0m\u001b[0;34m\u001b[0m\u001b[0m\n\u001b[1;32m     32\u001b[0m         \u001b[0;32mif\u001b[0m \u001b[0;32mnot\u001b[0m \u001b[0mattribute\u001b[0m\u001b[0;34m.\u001b[0m\u001b[0mstartswith\u001b[0m\u001b[0;34m(\u001b[0m\u001b[0;34m\"_\"\u001b[0m\u001b[0;34m)\u001b[0m \u001b[0;32mand\u001b[0m \u001b[0;32mnot\u001b[0m \u001b[0mself\u001b[0m\u001b[0;34m.\u001b[0m\u001b[0m_fetched\u001b[0m\u001b[0;34m:\u001b[0m\u001b[0;34m\u001b[0m\u001b[0m\n\u001b[0;32m---> 33\u001b[0;31m             \u001b[0mself\u001b[0m\u001b[0;34m.\u001b[0m\u001b[0m_fetch\u001b[0m\u001b[0;34m(\u001b[0m\u001b[0;34m)\u001b[0m\u001b[0;34m\u001b[0m\u001b[0m\n\u001b[0m\u001b[1;32m     34\u001b[0m             \u001b[0;32mreturn\u001b[0m \u001b[0mgetattr\u001b[0m\u001b[0;34m(\u001b[0m\u001b[0mself\u001b[0m\u001b[0;34m,\u001b[0m \u001b[0mattribute\u001b[0m\u001b[0;34m)\u001b[0m\u001b[0;34m\u001b[0m\u001b[0m\n\u001b[1;32m     35\u001b[0m         raise AttributeError(\n",
      "\u001b[0;32m/Users/lucyzhang/anaconda3/envs/18065_env/lib/python3.5/site-packages/praw/models/reddit/submission.py\u001b[0m in \u001b[0;36m_fetch\u001b[0;34m(self)\u001b[0m\n\u001b[1;32m    553\u001b[0m \u001b[0;34m\u001b[0m\u001b[0m\n\u001b[1;32m    554\u001b[0m     \u001b[0;32mdef\u001b[0m \u001b[0m_fetch\u001b[0m\u001b[0;34m(\u001b[0m\u001b[0mself\u001b[0m\u001b[0;34m)\u001b[0m\u001b[0;34m:\u001b[0m\u001b[0;34m\u001b[0m\u001b[0m\n\u001b[0;32m--> 555\u001b[0;31m         \u001b[0mdata\u001b[0m \u001b[0;34m=\u001b[0m \u001b[0mself\u001b[0m\u001b[0;34m.\u001b[0m\u001b[0m_fetch_data\u001b[0m\u001b[0;34m(\u001b[0m\u001b[0;34m)\u001b[0m\u001b[0;34m\u001b[0m\u001b[0m\n\u001b[0m\u001b[1;32m    556\u001b[0m         \u001b[0msubmission_listing\u001b[0m\u001b[0;34m,\u001b[0m \u001b[0mcomment_listing\u001b[0m \u001b[0;34m=\u001b[0m \u001b[0mdata\u001b[0m\u001b[0;34m\u001b[0m\u001b[0m\n\u001b[1;32m    557\u001b[0m         \u001b[0mcomment_listing\u001b[0m \u001b[0;34m=\u001b[0m \u001b[0mListing\u001b[0m\u001b[0;34m(\u001b[0m\u001b[0mself\u001b[0m\u001b[0;34m.\u001b[0m\u001b[0m_reddit\u001b[0m\u001b[0;34m,\u001b[0m \u001b[0m_data\u001b[0m\u001b[0;34m=\u001b[0m\u001b[0mcomment_listing\u001b[0m\u001b[0;34m[\u001b[0m\u001b[0;34m\"data\"\u001b[0m\u001b[0;34m]\u001b[0m\u001b[0;34m)\u001b[0m\u001b[0;34m\u001b[0m\u001b[0m\n",
      "\u001b[0;32m/Users/lucyzhang/anaconda3/envs/18065_env/lib/python3.5/site-packages/praw/models/reddit/submission.py\u001b[0m in \u001b[0;36m_fetch_data\u001b[0;34m(self)\u001b[0m\n\u001b[1;32m    550\u001b[0m         \u001b[0mname\u001b[0m\u001b[0;34m,\u001b[0m \u001b[0mfields\u001b[0m\u001b[0;34m,\u001b[0m \u001b[0mparams\u001b[0m \u001b[0;34m=\u001b[0m \u001b[0mself\u001b[0m\u001b[0;34m.\u001b[0m\u001b[0m_fetch_info\u001b[0m\u001b[0;34m(\u001b[0m\u001b[0;34m)\u001b[0m\u001b[0;34m\u001b[0m\u001b[0m\n\u001b[1;32m    551\u001b[0m         \u001b[0mpath\u001b[0m \u001b[0;34m=\u001b[0m \u001b[0mAPI_PATH\u001b[0m\u001b[0;34m[\u001b[0m\u001b[0mname\u001b[0m\u001b[0;34m]\u001b[0m\u001b[0;34m.\u001b[0m\u001b[0mformat\u001b[0m\u001b[0;34m(\u001b[0m\u001b[0;34m**\u001b[0m\u001b[0mfields\u001b[0m\u001b[0;34m)\u001b[0m\u001b[0;34m\u001b[0m\u001b[0m\n\u001b[0;32m--> 552\u001b[0;31m         \u001b[0;32mreturn\u001b[0m \u001b[0mself\u001b[0m\u001b[0;34m.\u001b[0m\u001b[0m_reddit\u001b[0m\u001b[0;34m.\u001b[0m\u001b[0mrequest\u001b[0m\u001b[0;34m(\u001b[0m\u001b[0;34m\"GET\"\u001b[0m\u001b[0;34m,\u001b[0m \u001b[0mpath\u001b[0m\u001b[0;34m,\u001b[0m \u001b[0mparams\u001b[0m\u001b[0;34m)\u001b[0m\u001b[0;34m\u001b[0m\u001b[0m\n\u001b[0m\u001b[1;32m    553\u001b[0m \u001b[0;34m\u001b[0m\u001b[0m\n\u001b[1;32m    554\u001b[0m     \u001b[0;32mdef\u001b[0m \u001b[0m_fetch\u001b[0m\u001b[0;34m(\u001b[0m\u001b[0mself\u001b[0m\u001b[0;34m)\u001b[0m\u001b[0;34m:\u001b[0m\u001b[0;34m\u001b[0m\u001b[0m\n",
      "\u001b[0;32m/Users/lucyzhang/anaconda3/envs/18065_env/lib/python3.5/site-packages/praw/reddit.py\u001b[0m in \u001b[0;36mrequest\u001b[0;34m(self, method, path, params, data, files)\u001b[0m\n\u001b[1;32m    625\u001b[0m         \"\"\"\n\u001b[1;32m    626\u001b[0m         return self._core.request(\n\u001b[0;32m--> 627\u001b[0;31m             \u001b[0mmethod\u001b[0m\u001b[0;34m,\u001b[0m \u001b[0mpath\u001b[0m\u001b[0;34m,\u001b[0m \u001b[0mdata\u001b[0m\u001b[0;34m=\u001b[0m\u001b[0mdata\u001b[0m\u001b[0;34m,\u001b[0m \u001b[0mfiles\u001b[0m\u001b[0;34m=\u001b[0m\u001b[0mfiles\u001b[0m\u001b[0;34m,\u001b[0m \u001b[0mparams\u001b[0m\u001b[0;34m=\u001b[0m\u001b[0mparams\u001b[0m\u001b[0;34m\u001b[0m\u001b[0m\n\u001b[0m\u001b[1;32m    628\u001b[0m         )\n\u001b[1;32m    629\u001b[0m \u001b[0;34m\u001b[0m\u001b[0m\n",
      "\u001b[0;32m/Users/lucyzhang/anaconda3/envs/18065_env/lib/python3.5/site-packages/prawcore/sessions.py\u001b[0m in \u001b[0;36mrequest\u001b[0;34m(self, method, path, data, files, json, params)\u001b[0m\n\u001b[1;32m    183\u001b[0m         return self._request_with_retries(\n\u001b[1;32m    184\u001b[0m             \u001b[0mdata\u001b[0m\u001b[0;34m=\u001b[0m\u001b[0mdata\u001b[0m\u001b[0;34m,\u001b[0m \u001b[0mfiles\u001b[0m\u001b[0;34m=\u001b[0m\u001b[0mfiles\u001b[0m\u001b[0;34m,\u001b[0m \u001b[0mjson\u001b[0m\u001b[0;34m=\u001b[0m\u001b[0mjson\u001b[0m\u001b[0;34m,\u001b[0m \u001b[0mmethod\u001b[0m\u001b[0;34m=\u001b[0m\u001b[0mmethod\u001b[0m\u001b[0;34m,\u001b[0m\u001b[0;34m\u001b[0m\u001b[0m\n\u001b[0;32m--> 185\u001b[0;31m             params=params, url=url)\n\u001b[0m\u001b[1;32m    186\u001b[0m \u001b[0;34m\u001b[0m\u001b[0m\n\u001b[1;32m    187\u001b[0m \u001b[0;34m\u001b[0m\u001b[0m\n",
      "\u001b[0;32m/Users/lucyzhang/anaconda3/envs/18065_env/lib/python3.5/site-packages/prawcore/sessions.py\u001b[0m in \u001b[0;36m_request_with_retries\u001b[0;34m(self, data, files, json, method, params, url, retries)\u001b[0m\n\u001b[1;32m    128\u001b[0m                                   retries, saved_exception, url)\n\u001b[1;32m    129\u001b[0m         \u001b[0;32melif\u001b[0m \u001b[0mresponse\u001b[0m\u001b[0;34m.\u001b[0m\u001b[0mstatus_code\u001b[0m \u001b[0;32min\u001b[0m \u001b[0mself\u001b[0m\u001b[0;34m.\u001b[0m\u001b[0mSTATUS_EXCEPTIONS\u001b[0m\u001b[0;34m:\u001b[0m\u001b[0;34m\u001b[0m\u001b[0m\n\u001b[0;32m--> 130\u001b[0;31m             \u001b[0;32mraise\u001b[0m \u001b[0mself\u001b[0m\u001b[0;34m.\u001b[0m\u001b[0mSTATUS_EXCEPTIONS\u001b[0m\u001b[0;34m[\u001b[0m\u001b[0mresponse\u001b[0m\u001b[0;34m.\u001b[0m\u001b[0mstatus_code\u001b[0m\u001b[0;34m]\u001b[0m\u001b[0;34m(\u001b[0m\u001b[0mresponse\u001b[0m\u001b[0;34m)\u001b[0m\u001b[0;34m\u001b[0m\u001b[0m\n\u001b[0m\u001b[1;32m    131\u001b[0m         \u001b[0;32melif\u001b[0m \u001b[0mresponse\u001b[0m\u001b[0;34m.\u001b[0m\u001b[0mstatus_code\u001b[0m \u001b[0;34m==\u001b[0m \u001b[0mcodes\u001b[0m\u001b[0;34m[\u001b[0m\u001b[0;34m'no_content'\u001b[0m\u001b[0;34m]\u001b[0m\u001b[0;34m:\u001b[0m\u001b[0;34m\u001b[0m\u001b[0m\n\u001b[1;32m    132\u001b[0m             \u001b[0;32mreturn\u001b[0m\u001b[0;34m\u001b[0m\u001b[0m\n",
      "\u001b[0;31mNotFound\u001b[0m: received 404 HTTP response"
     ]
    }
   ],
   "source": [
    "submission.author"
   ]
  },
  {
   "cell_type": "code",
   "execution_count": null,
   "metadata": {},
   "outputs": [],
   "source": []
  }
 ],
 "metadata": {
  "kernelspec": {
   "display_name": "Python 3",
   "language": "python",
   "name": "python3"
  },
  "language_info": {
   "codemirror_mode": {
    "name": "ipython",
    "version": 3
   },
   "file_extension": ".py",
   "mimetype": "text/x-python",
   "name": "python",
   "nbconvert_exporter": "python",
   "pygments_lexer": "ipython3",
   "version": "3.7.3"
  }
 },
 "nbformat": 4,
 "nbformat_minor": 2
}
